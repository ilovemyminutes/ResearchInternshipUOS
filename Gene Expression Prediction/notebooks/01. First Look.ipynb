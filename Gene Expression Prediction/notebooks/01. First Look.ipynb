{
 "cells": [
  {
   "cell_type": "code",
   "execution_count": null,
   "metadata": {
    "colab": {
     "base_uri": "https://localhost:8080/",
     "height": 54
    },
    "colab_type": "code",
    "id": "qCNelNp8T5pj",
    "outputId": "804d00af-b8aa-44e2-d2a7-99c6e564aaa2"
   },
   "outputs": [],
   "source": [
    "import os\n",
    "import glob\n",
    "import warnings\n",
    "warnings.filterwarnings(\"ignore\")\n",
    "\n",
    "# Colab 사용시 구동\n",
    "# from google.colab import drive\n",
    "# drive.mount('/content/gdrive')\n",
    "\n",
    "import pandas as pd\n",
    "import numpy as np\n",
    "pd.set_option('display.max_rows', 500)\n",
    "\n",
    "# import tensorflow\n",
    "from sklearn.preprocessing import MinMaxScaler\n",
    "from sklearn.model_selection import train_test_split, KFold\n",
    "from sklearn.svm import SVC\n",
    "from sklearn.ensemble import RandomForestClassifier\n",
    "import xgboost as xgb\n",
    "import lightgbm as lgb\n",
    "from sklearn.metrics import roc_auc_score, recall_score, precision_score, f1_score\n",
    "\n",
    "import seaborn as sns\n",
    "import matplotlib.pyplot as plt\n",
    "import matplotlib as mpl\n",
    "plt.rc('font', family='NanumGothic')\n",
    "mpl.rcParams['axes.unicode_minus'] = False\n",
    "plt.style.use('ggplot')"
   ]
  },
  {
   "cell_type": "code",
   "execution_count": null,
   "metadata": {
    "colab": {},
    "colab_type": "code",
    "id": "0vxpgwWCT5pn"
   },
   "outputs": [],
   "source": [
    "# Colab\n",
    "# X_path, y_path = glob.glob('gdrive/My Drive/Gene Expression Prediction/data/train/*')\n",
    "\n",
    "# Local\n",
    "X_path, y_path = glob.glob('../data/train/*train.csv')\n",
    "X_train, y_train = pd.read_csv(X_path), pd.read_csv(y_path)\n",
    "\n",
    "X_path, y_path = glob.glob('../data/test/*test.csv')\n",
    "X_test, y_test = pd.read_csv(X_path), pd.read_csv(y_path)"
   ]
  },
  {
   "cell_type": "markdown",
   "metadata": {
    "colab_type": "text",
    "id": "9l4GMYTnVWvw"
   },
   "source": [
    "### H3K4me3\n",
    "- DNA 패키징 단백질 히스톤 H3에 대한 후성유전적 변형\n",
    "- 히스톤 H3 단백질(H3)의 4번째 라이신 잔기(K4)에서 트릴메틸화 변형(me3)을 나타냄\n",
    "\t- 라이신: K로 표기, HO2CCH (NH2) (CH2) 4NH2를 갖는 α- 아미노산, 필수 아미노산\n",
    "\t- 트릴메틸화 변형: 3개의 메틸 그룹이 히스톤이 붙는 것, me3\n",
    "\t- 3개의 메틸그룹이 H3K4에 붙어 H3K4me3가 히스톤 테일 프로모터 부분에 많이 있게 됨\n",
    "- 유전자 발현 조절에 관여하는 마커(전사활성화(transcription activation) 마커)\n",
    "\n",
    "\n",
    "### H3K4me1\n",
    "- DNA 패키징 단백질 Histone H3에 대한 후성유전적 변형\n",
    "- 히스톤 H3 단백질(H3)의 4번째 라이신 잔기(K4)에서 모노메틸화(me1) 변형을 나타냄\n",
    "- 유전자 인핸서와 관련 있는 표시\n",
    "\t- 인핸서(Enhancer): 프로모터에서 멀리 떨어진 위치에서 유전자의 전사(transcription)를 조절하는 DNA 염기서열\n",
    "\t- [Reference](http://www.ksmcb.or.kr/file/webzine/2015_08_03.pdf)\n",
    "\n",
    "### H3K36me3\n",
    "- DNA 패키징 단백질 Histone H3에 대한 후성유전적 변형\n",
    "- 히스톤 H3 단백질의 36번째 라이신 잔기(K36)에서 트릴메틸화 변형(me3)을 나타냄\n",
    "- 유전자 본체와 관련 있는 표시\n",
    "\n",
    "\n",
    "### H3K9me3\n",
    "- DNA 패키징 단백질 Histone H3에 대한 후성유전적 변형\n",
    "- 히스톤 H3 단백질의 9번째 라이신 잔기(K9)에서 트릴메틸화(me3)를 나타냄\n",
    "- 헤테로크로마틴과 관련 있는 표시\n",
    "\t- 헤테로크로마틴(Heterocromatin): DNA가 히스톤을 빠듯하게 감고 있는 뉴클레오좀 상태\n",
    "\t- 유크로마틴(Euchromatin): DNA가 히스톤을 느슨하게 감고 있는 뉴클레오좀 상태\n",
    "\t- 히스톤 꼬리(tail)에 달라 붙는 효소와 단백질에 따라 뉴클레오좀 상태가 결정됨. 즉, 달라붙은 단백질를 표식(Marker)으로 삼아 뉴클레오좀 상태를 가늠할 수 있음\n",
    "\n",
    "### H3K27me3\n",
    "- DNA 패키징 단백질 Histone H3에 대한 후성유전적 변형\n",
    "- 히스톤 H3 단백질의 27 번째 라이신 잔기에서 트리메틸 화를 나타내는 마크\n",
    "- 트리메틸화는 헤테로크로마틱 영역 구성을 통해 근처 유전자의 하향조절(downregulation)과 관련"
   ]
  },
  {
   "cell_type": "code",
   "execution_count": null,
   "metadata": {
    "colab": {
     "base_uri": "https://localhost:8080/",
     "height": 137
    },
    "colab_type": "code",
    "id": "0mEHwjg5T5pr",
    "outputId": "ab106e05-72d8-4c85-c01b-f347786e5479"
   },
   "outputs": [],
   "source": [
    "train_raw = X_train.merge(y_train, how='left', on='GeneId')\n",
    "train_raw.head(3)"
   ]
  },
  {
   "cell_type": "code",
   "execution_count": null,
   "metadata": {
    "colab": {},
    "colab_type": "code",
    "id": "A1Xy55JAT5pt"
   },
   "outputs": [],
   "source": [
    "yesExpression = train_raw[train_raw['Prediction']==1].reset_index(drop=True)\n",
    "noExpression = train_raw[train_raw['Prediction']==0].reset_index(drop=True)"
   ]
  },
  {
   "cell_type": "code",
   "execution_count": null,
   "metadata": {
    "colab": {
     "base_uri": "https://localhost:8080/",
     "height": 421
    },
    "colab_type": "code",
    "id": "85Pp04KWT5pv",
    "outputId": "005aa3b9-1429-41a4-cd45-f5d36606cb8e"
   },
   "outputs": [],
   "source": [
    "temp = train_raw.groupby(['Prediction']).median().drop('GeneId', axis=1)\n",
    "temp = temp.reset_index()\n",
    "temp = pd.melt(temp, id_vars='Prediction')\n",
    "\n",
    "plt.figure(figsize=(10, 6))\n",
    "sns.barplot(x='variable', y='value', hue='Prediction', data=temp)\n",
    "plt.title('H3 Modification Region Index (Median)')"
   ]
  },
  {
   "cell_type": "code",
   "execution_count": null,
   "metadata": {
    "colab": {
     "base_uri": "https://localhost:8080/",
     "height": 421
    },
    "colab_type": "code",
    "id": "FvTg0xuMXBYW",
    "outputId": "54b094cf-d851-407c-960b-0cb90d1c9b20"
   },
   "outputs": [],
   "source": [
    "temp = train_raw.groupby(['Prediction']).mean().drop('GeneId', axis=1)\n",
    "temp = temp.reset_index()\n",
    "temp = pd.melt(temp, id_vars='Prediction')\n",
    "\n",
    "plt.figure(figsize=(10, 6))\n",
    "sns.barplot(x='variable', y='value', hue='Prediction', data=temp)\n",
    "plt.title('H3 Modification Region Index (Mean)')"
   ]
  },
  {
   "cell_type": "code",
   "execution_count": null,
   "metadata": {
    "colab": {
     "base_uri": "https://localhost:8080/",
     "height": 421
    },
    "colab_type": "code",
    "id": "PA-ap75HXGUU",
    "outputId": "2918c24b-0a99-42c2-c90e-bfbd9039d87e"
   },
   "outputs": [],
   "source": [
    "temp = train_raw.groupby(['Prediction']).std().drop('GeneId', axis=1)\n",
    "temp = temp.reset_index()\n",
    "temp = pd.melt(temp, id_vars='Prediction')\n",
    "\n",
    "plt.figure(figsize=(10, 6))\n",
    "sns.barplot(x='variable', y='value', hue='Prediction', data=temp)\n",
    "plt.title('H3 Modification Region Index (std)')"
   ]
  },
  {
   "cell_type": "code",
   "execution_count": null,
   "metadata": {
    "colab": {},
    "colab_type": "code",
    "id": "BrtrvJ1jXX3T"
   },
   "outputs": [],
   "source": [
    "feature_list = ['H3K4me3', 'H3K4me1', 'H3K36me3', 'H3K9me3', 'H3K27me3']\n",
    "\n",
    "def plotDist(feature=feature_list[0], figsize=(10,6), estimator='mean'):\n",
    "    if estimator=='mean':\n",
    "        plt.figure(figsize=(10,6))\n",
    "        temp = train_raw[['GeneId', f'{feature}', 'Prediction']].groupby('GeneId').mean()\n",
    "        temp_yesExp = temp[temp['Prediction']==1]\n",
    "        temp_noExp = temp[temp['Prediction']==0]\n",
    "        sns.distplot(temp_yesExp[f'{feature}'], norm_hist=True, label='Yes Expression')\n",
    "        sns.distplot(temp_noExp[f'{feature}'], norm_hist=True, label='No Expression')\n",
    "        plt.legend()\n",
    "        plt.show()\n",
    "    elif estimator=='median':\n",
    "        plt.figure(figsize=(10,6))\n",
    "        temp = train_raw[['GeneId', f'{feature}', 'Prediction']].groupby('GeneId').median()\n",
    "        temp_yesExp = temp[temp['Prediction']==1]\n",
    "        temp_noExp = temp[temp['Prediction']==0]\n",
    "        sns.distplot(temp_yesExp[f'{feature}'], norm_hist=True, label='Yes Expression', kde=False)\n",
    "        sns.distplot(temp_noExp[f'{feature}'], norm_hist=True, label='No Expression', kde=False)\n",
    "        plt.legend()\n",
    "        plt.show()"
   ]
  },
  {
   "cell_type": "code",
   "execution_count": null,
   "metadata": {
    "colab": {
     "base_uri": "https://localhost:8080/",
     "height": 1000
    },
    "colab_type": "code",
    "id": "7Ny2fOqOY0be",
    "outputId": "9117d07f-f95e-4b67-92c2-ee023700fdbc",
    "scrolled": false
   },
   "outputs": [],
   "source": [
    "for f in feature_list:\n",
    "    plotDist(feature=f, figsize=(5,3))"
   ]
  },
  {
   "cell_type": "markdown",
   "metadata": {
    "colab_type": "text",
    "id": "od0ElaLNZp2g"
   },
   "source": [
    "H3K9me3, H3K36me3, H3K4me1: 유전자 발현 여부에 따라 확연한 분포 차이를 보임"
   ]
  },
  {
   "cell_type": "code",
   "execution_count": null,
   "metadata": {
    "colab": {
     "base_uri": "https://localhost:8080/",
     "height": 1000
    },
    "colab_type": "code",
    "id": "2WCGiUIfZQt1",
    "outputId": "002ddfb9-59aa-4f8b-9c81-2ee359ae0f0a"
   },
   "outputs": [],
   "source": [
    "for f in feature_list:\n",
    "    plotDist(feature=f, estimator='median', figsize=(5,3))"
   ]
  },
  {
   "cell_type": "code",
   "execution_count": null,
   "metadata": {
    "colab": {
     "base_uri": "https://localhost:8080/",
     "height": 186
    },
    "colab_type": "code",
    "id": "qE1lXd0hc-xR",
    "outputId": "5ac01511-d13f-4a64-aee9-5a327b455aa9"
   },
   "outputs": [],
   "source": [
    "train_TCN = pd.DataFrame(\n",
    "    np.vstack(\n",
    "        (\n",
    "            train_raw\n",
    "         .groupby('GeneId')\n",
    "         .apply(lambda x: x.drop(['GeneId', 'Prediction'], axis=1)\n",
    "        .values.reshape(500, 1)))\n",
    "        .apply(lambda x: x.flatten())\n",
    "        .values\n",
    "        )\n",
    ")\n",
    "train_TCN['GeneId'] = train_raw['GeneId'].unique().tolist()\n",
    "train_TCN = (\n",
    "    train_TCN.merge(\n",
    "        train_raw\n",
    "        .groupby('GeneId')['Prediction']\n",
    "        .first().to_frame('Prediction')\n",
    "        .reset_index(), \n",
    "        how='left', \n",
    "        on='GeneId'\n",
    "        )\n",
    "    )\n",
    "\n",
    "# Colab export data\n",
    "# path = 'gdrive/My Drive/Gene Expression Prediction/data/'\n",
    "# train_TCN.to_csv(os.path.join(path, 'train_TCN.csv'), index=False)\n",
    "\n",
    "# Local export data\n",
    "train_TCN.to_csv('../data/train/train_TCN.csv', index=False)\n",
    "\n",
    "train_TCN = pd.read_csv('../data/train/train_TCN.csv').drop('GeneId', axis=1)\n",
    "train_TCN.head(3)"
   ]
  },
  {
   "cell_type": "code",
   "execution_count": null,
   "metadata": {},
   "outputs": [],
   "source": [
    "X, y = train_TCN.drop('Prediction', axis=1), train_TCN['Prediction']\n",
    "X_train, X_valid, y_train, y_valid = train_test_split(X, y, test_size=.3, random_state=42, shuffle=True)"
   ]
  },
  {
   "cell_type": "markdown",
   "metadata": {
    "colab_type": "text",
    "id": "ZVSg3MRThWEU"
   },
   "source": [
    "### XGBoost"
   ]
  },
  {
   "cell_type": "code",
   "execution_count": null,
   "metadata": {
    "colab": {
     "base_uri": "https://localhost:8080/",
     "height": 34
    },
    "colab_type": "code",
    "id": "r9y4HvPGgvzt",
    "outputId": "9e2357c2-96bd-45a6-caf2-12343d7799fc"
   },
   "outputs": [],
   "source": [
    "model = (\n",
    "    xgb.XGBClassifier(random_state=42)\n",
    "    .fit(X_train.values, y_train)\n",
    "         )\n",
    "pred = model.predict(X_valid.values)\n",
    "pred_proba = model.predict_proba(X_valid.values)[:, 1]\n",
    "\n",
    "print(roc_auc_score(y_valid, pred_proba))\n",
    "print(recall_score(y_valid, pred))\n",
    "print(precision_score(y_valid, pred))\n",
    "print(f1_score(y_valid, pred))"
   ]
  },
  {
   "cell_type": "code",
   "execution_count": null,
   "metadata": {
    "colab": {},
    "colab_type": "code",
    "id": "flOlhfEwjEGx"
   },
   "outputs": [],
   "source": [
    "kf = KFold(n_splits=4, random_state=42, shuffle=True)\n",
    "auc_list = []\n",
    "for train_index, test_index in kf.split(train):\n",
    "    X_train, X_test = train.iloc[train_index.tolist(), :].drop('Prediction', axis=1), train.iloc[test_index.tolist(), :].drop('Prediction', axis=1)\n",
    "    y_train, y_test = train['Prediction'].iloc[train_index.tolist()], train['Prediction'].iloc[test_index.tolist()]\n",
    "\n",
    "    model = (\n",
    "        xgb.XGBClassifier(random_state=42)\n",
    "        .fit(X_train.values, y_train)\n",
    "        )\n",
    "    # AUROC\n",
    "    auc_list.append(roc_auc_score(y_test, \n",
    "              model.predict_proba(X_test.values)[:, 1]))"
   ]
  },
  {
   "cell_type": "markdown",
   "metadata": {
    "colab_type": "text",
    "id": "-s891P3IXB09"
   },
   "source": [
    "### LightGBM"
   ]
  },
  {
   "cell_type": "markdown",
   "metadata": {
    "colab_type": "text",
    "id": "xTKz9MQCieAb"
   },
   "source": [
    "Boosting Type: GOSS"
   ]
  },
  {
   "cell_type": "code",
   "execution_count": null,
   "metadata": {
    "colab": {
     "base_uri": "https://localhost:8080/",
     "height": 34
    },
    "colab_type": "code",
    "id": "WhG8BeL2bPB3",
    "outputId": "6ce389e2-c075-4193-adca-a613e50b7f19"
   },
   "outputs": [],
   "source": [
    "model = (\n",
    "    lgb.LGBMClassifier(random_state=42, boosting_type='goss')\n",
    "    .fit(X_train.values, y_train)\n",
    "         )\n",
    "\n",
    "pred = model.predict(X_valid.values)\n",
    "pred_proba = model.predict_proba(X_valid.values)[:, 1]\n",
    "\n",
    "print(roc_auc_score(y_valid, pred_proba))\n",
    "print(recall_score(y_valid, pred))\n",
    "print(precision_score(y_valid, pred))\n",
    "print(f1_score(y_valid, pred))"
   ]
  },
  {
   "cell_type": "code",
   "execution_count": null,
   "metadata": {
    "colab": {},
    "colab_type": "code",
    "id": "qyyIT6NilYqk"
   },
   "outputs": [],
   "source": [
    "kf = KFold(n_splits=4, random_state=42, shuffle=True)\n",
    "auc_list = []\n",
    "for train_index, test_index in kf.split(train):\n",
    "    X_train, X_test = train.iloc[train_index.tolist(), :].drop('Prediction', axis=1), train.iloc[test_index.tolist(), :].drop('Prediction', axis=1)\n",
    "    y_train, y_test = train['Prediction'].iloc[train_index.tolist()], train['Prediction'].iloc[test_index.tolist()]\n",
    "\n",
    "    model = (\n",
    "        lgb.LGBMClassifier(random_state=42, boosting_type='goss')\n",
    "        .fit(X_train.values, y_train)\n",
    "        )\n",
    "    # AUROC\n",
    "    auc_list.append(roc_auc_score(y_test, \n",
    "              model.predict_proba(X_test.values)[:, 1]))"
   ]
  },
  {
   "cell_type": "markdown",
   "metadata": {
    "colab_type": "text",
    "id": "0q5A_GmTifvk"
   },
   "source": [
    "Boosting Type: GBDT"
   ]
  },
  {
   "cell_type": "code",
   "execution_count": null,
   "metadata": {
    "colab": {
     "base_uri": "https://localhost:8080/",
     "height": 34
    },
    "colab_type": "code",
    "id": "hq32PaM2iTMi",
    "outputId": "764d4df0-dbef-402e-9521-c4bafadfab83"
   },
   "outputs": [],
   "source": [
    "model = (\n",
    "    lgb.LGBMClassifier(random_state=42, boosting_type='gbdt')\n",
    "    .fit(X_train.values, y_train)\n",
    "         )\n",
    "\n",
    "pred = model.predict(X_valid.values)\n",
    "pred_proba = model.predict_proba(X_valid.values)[:, 1]\n",
    "\n",
    "print(roc_auc_score(y_valid, pred_proba))\n",
    "print(recall_score(y_valid, pred))\n",
    "print(precision_score(y_valid, pred))\n",
    "print(f1_score(y_valid, pred))"
   ]
  },
  {
   "cell_type": "code",
   "execution_count": null,
   "metadata": {
    "colab": {},
    "colab_type": "code",
    "id": "XOcxVappmGOZ"
   },
   "outputs": [],
   "source": [
    "kf = KFold(n_splits=4, random_state=42, shuffle=True)\n",
    "auc_list = []\n",
    "for train_index, test_index in kf.split(train):\n",
    "    X_train, X_test = train.iloc[train_index.tolist(), :].drop('Prediction', axis=1), train.iloc[test_index.tolist(), :].drop('Prediction', axis=1)\n",
    "    y_train, y_test = train['Prediction'].iloc[train_index.tolist()], train['Prediction'].iloc[test_index.tolist()]\n",
    "\n",
    "    model = (\n",
    "        lgb.LGBMClassifier(random_state=42, boosting_type='gbdt')\n",
    "        .fit(X_train.values, y_train)\n",
    "        )\n",
    "    # AUROC\n",
    "    auc_list.append(roc_auc_score(y_test, \n",
    "              model.predict_proba(X_test.values)[:, 1]))"
   ]
  },
  {
   "cell_type": "markdown",
   "metadata": {
    "colab_type": "text",
    "id": "9hvRxMCxik4q"
   },
   "source": [
    "### SVM"
   ]
  },
  {
   "cell_type": "code",
   "execution_count": null,
   "metadata": {},
   "outputs": [],
   "source": [
    "# 알고리즘 특성상 스케일링이 필요함\n",
    "scaler = MinMaxScaler()\n",
    "X_train = scaler.fit_transform(X_train)\n",
    "X_valid = scaler.transform(X_valid)"
   ]
  },
  {
   "cell_type": "code",
   "execution_count": null,
   "metadata": {
    "colab": {
     "base_uri": "https://localhost:8080/",
     "height": 34
    },
    "colab_type": "code",
    "id": "JBdws9uIim2Q",
    "outputId": "1856ec8b-eace-4494-d4f6-eb3ae54deb2d"
   },
   "outputs": [],
   "source": [
    "model = (\n",
    "    SVC(random_state=42, probability=True)\n",
    "    .fit(X_train, y_train)\n",
    "         )\n",
    "\n",
    "pred = model.predict(X_valid)\n",
    "pred_proba = model.predict_proba(X_valid)[:, 1]\n",
    "\n",
    "print(roc_auc_score(y_valid, pred_proba))\n",
    "print(recall_score(y_valid, pred))\n",
    "print(precision_score(y_valid, pred))\n",
    "print(f1_score(y_valid, pred))"
   ]
  },
  {
   "cell_type": "markdown",
   "metadata": {
    "colab_type": "text",
    "id": "WCQul8k2l153"
   },
   "source": [
    "### Random Forest"
   ]
  },
  {
   "cell_type": "code",
   "execution_count": null,
   "metadata": {
    "colab": {
     "base_uri": "https://localhost:8080/",
     "height": 34
    },
    "colab_type": "code",
    "id": "pU5JMVHVl4SR",
    "outputId": "6ed60386-8a0d-41b6-db04-5749df9d2163"
   },
   "outputs": [],
   "source": [
    "model = (\n",
    "    RandomForestClassifier(random_state=42)\n",
    "    .fit(X_train.values, y_train)\n",
    "         )\n",
    "\n",
    "pred = model.predict(X_valid.values)\n",
    "pred_proba = model.predict_proba(X_valid.values)[:, 1]\n",
    "\n",
    "print(roc_auc_score(y_valid, pred_proba))\n",
    "print(recall_score(y_valid, pred))\n",
    "print(precision_score(y_valid, pred))\n",
    "print(f1_score(y_valid, pred))"
   ]
  },
  {
   "cell_type": "code",
   "execution_count": null,
   "metadata": {
    "colab": {},
    "colab_type": "code",
    "id": "lFvUItWpnY6C"
   },
   "outputs": [],
   "source": [
    "kf = KFold(n_splits=4, random_state=42, shuffle=True)\n",
    "auc_list = []\n",
    "for train_index, test_index in kf.split(train):\n",
    "    X_train, X_test = train.iloc[train_index.tolist(), :].drop('Prediction', axis=1), train.iloc[test_index.tolist(), :].drop('Prediction', axis=1)\n",
    "    y_train, y_test = train['Prediction'].iloc[train_index.tolist()], train['Prediction'].iloc[test_index.tolist()]\n",
    "\n",
    "    model = (\n",
    "        RandomForestClassifier(random_state=42)\n",
    "        .fit(X_train.values, y_train)\n",
    "        )\n",
    "    # AUROC\n",
    "    auc_list.append(roc_auc_score(y_test, \n",
    "              model.predict_proba(X_test.values)[:, 1]))"
   ]
  }
 ],
 "metadata": {
  "accelerator": "TPU",
  "colab": {
   "name": "First Look.ipynb",
   "provenance": []
  },
  "kernelspec": {
   "display_name": "Python 3",
   "language": "python",
   "name": "python3"
  },
  "language_info": {
   "codemirror_mode": {
    "name": "ipython",
    "version": 3
   },
   "file_extension": ".py",
   "mimetype": "text/x-python",
   "name": "python",
   "nbconvert_exporter": "python",
   "pygments_lexer": "ipython3",
   "version": "3.7.9"
  }
 },
 "nbformat": 4,
 "nbformat_minor": 1
}
