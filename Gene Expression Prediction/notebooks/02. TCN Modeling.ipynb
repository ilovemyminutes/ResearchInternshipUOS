{
 "cells": [
  {
   "cell_type": "markdown",
   "metadata": {},
   "source": [
    "# 02. TCN Modeling\n",
    "- TCN: Temporal Convolutional Modeling\n",
    "- reference: [Keras TCN](https://github.com/philipperemy/keras-tcn)"
   ]
  },
  {
   "cell_type": "code",
   "execution_count": null,
   "metadata": {},
   "outputs": [],
   "source": [
    "import os\n",
    "import glob\n",
    "\n",
    "import pandas as pd\n",
    "import numpy as np\n",
    "\n",
    "import seaborn as sns\n",
    "import matplotlib.pyplot as plt\n",
    "plt.style.use('ggplot')\n",
    "\n",
    "from sklearn.model_selection import train_test_split\n",
    "from sklearn.preprocessing import MinMaxScaler\n",
    "from sklearn.metrics import roc_auc_score, recall_score, precision_score, f1_score\n",
    "\n",
    "import tensorflow as tf\n",
    "from tensorflow.keras.layers import Dense, Conv1D\n",
    "from tensorflow.keras import Input, Model\n",
    "\n",
    "from tcn import TCN, tcn_full_summary"
   ]
  },
  {
   "cell_type": "markdown",
   "metadata": {},
   "source": [
    "### TCN의 기본적인 학습 파이프라인\n",
    "- TensorFlow의 Keras API와 같은 방식으로 작동하며, Keras와 연동하여 사용하는 것이 가능하다."
   ]
  },
  {
   "cell_type": "code",
   "execution_count": null,
   "metadata": {},
   "outputs": [],
   "source": [
    "data = pd.read_csv('../data/train/train_TCN.csv')\n",
    "X, y = data.drop(['GeneId', 'Prediction'], axis=1), data['Prediction']\n",
    "X_train, X_valid, y_train, y_valid = train_test_split(X, y, test_size=.3, random_state=42, shuffle=True)\n",
    "\n",
    "# Scaling\n",
    "scaler = MinMaxScaler()\n",
    "X_train = scaler.fit_transform(X_train)\n",
    "X_valid = scaler.transform(X_valid)\n",
    "\n",
    "print(X_train.shape, X_valid.shape, y_train.shape, y_valid.shape)"
   ]
  },
  {
   "cell_type": "markdown",
   "metadata": {},
   "source": [
    "Yes Normalization & No Activation in TCN"
   ]
  },
  {
   "cell_type": "code",
   "execution_count": null,
   "metadata": {},
   "outputs": [],
   "source": [
    "input_length = 500\n",
    "batch_size, timesteps, input_dim = None, 5, 1\n",
    "\n",
    "input_layer = Input(batch_shape=(batch_size, timesteps, input_dim))\n",
    "dilated_factor1 = Conv1D(input_length, kernel_size=3, dilation_rate=2, padding='causal')(input_layer)\n",
    "\n",
    "TCN_NET_1 = TCN(nb_filters=128, kernel_size=3 , dilations=[2,4], \n",
    "                nb_stacks=1, padding='causal', activation=None, return_sequences=True)(dilated_factor1)\n",
    "TCN_NET_2 = TCN(nb_filters=64, kernel_size=3, dilations=[2,4], \n",
    "                nb_stacks=1, padding='causal', activation=None, return_sequences=True)(TCN_NET_1)\n",
    "TCN_NET_3 = TCN(nb_filters=32, kernel_size=3, dilations=[2,4], \n",
    "                nb_stacks=1, padding='causal', activation=None, return_sequences=False)(TCN_NET_2)\n",
    "\n",
    "Dense_layer_1 = Dense(200, activation='relu')(TCN_NET_3)\n",
    "Dense_layer_2 = Dense(100, activation='relu')(Dense_layer_1)\n",
    "output_layer = Dense(1, activation='sigmoid')(Dense_layer_2)\n",
    "\n",
    "model_noRelu = Model(inputs=[input_layer], outputs=[output_layer])\n",
    "model_noRelu.compile(optimizer='adam', loss='binary_crossentropy', metrics=['acc'])"
   ]
  },
  {
   "cell_type": "code",
   "execution_count": null,
   "metadata": {},
   "outputs": [],
   "source": [
    "BATCH_SIZE = 8\n",
    "EPOCHS = 25\n",
    "history_noRelu = model_noRelu.fit(\n",
    "    x=X_train, \n",
    "    y=y_train, \n",
    "    batch_size=BATCH_SIZE,\n",
    "    epochs=EPOCHS,\n",
    "    validation_data=(X_valid, y_valid),\n",
    "    verbose=1)"
   ]
  },
  {
   "cell_type": "code",
   "execution_count": null,
   "metadata": {},
   "outputs": [],
   "source": [
    "result = pd.DataFrame(dict(val_loss=history_noRelu.history['val_loss'], val_acc=history_noRelu.history['val_acc']))\n",
    "\n",
    "plt.figure(figsize=(18,6))\n",
    "# sns.pointplot(x=result.index, y=result['val_loss'], color='blue')\n",
    "sns.pointplot(x=result.index, y=result['val_acc'], color='red')"
   ]
  },
  {
   "cell_type": "code",
   "execution_count": null,
   "metadata": {},
   "outputs": [],
   "source": [
    "temp = model_noRelu.predict(X_valid).flatten()\n",
    "print(roc_auc_score(y_valid, temp))\n",
    "print(recall_score(y_valid, pd.Series(temp).apply(lambda x: 1 if x > 0.5 else 0)))\n",
    "print(precision_score(y_valid, pd.Series(temp).apply(lambda x: 1 if x > 0.5 else 0)))\n",
    "print(f1_score(y_valid, pd.Series(temp).apply(lambda x: 1 if x > 0.5 else 0)))"
   ]
  },
  {
   "cell_type": "markdown",
   "metadata": {},
   "source": [
    "Yes Normalization & Yes Activation in TCN"
   ]
  },
  {
   "cell_type": "code",
   "execution_count": null,
   "metadata": {},
   "outputs": [],
   "source": [
    "input_length = 500\n",
    "batch_size, timesteps, input_dim = None, 5, 1\n",
    "\n",
    "input_layer = Input(batch_shape=(batch_size, timesteps, input_dim))\n",
    "dilated_factor1 = Conv1D(input_length, kernel_size=3, dilation_rate=2, padding='causal')(input_layer)\n",
    "\n",
    "TCN_NET_1 = TCN(nb_filters=128, kernel_size=3 , dilations=[2,4], \n",
    "                nb_stacks=1, padding='causal', activation='relu', return_sequences=True)(dilated_factor1)\n",
    "TCN_NET_2 = TCN(nb_filters=64, kernel_size=3, dilations=[2,4], \n",
    "                nb_stacks=1, padding='causal', activation='relu', return_sequences=True)(TCN_NET_1)\n",
    "TCN_NET_3 = TCN(nb_filters=32, kernel_size=3, dilations=[2,4], \n",
    "                nb_stacks=1, padding='causal', activation='relu', return_sequences=False)(TCN_NET_2)\n",
    "\n",
    "Dense_layer_1 = Dense(200, activation='relu')(TCN_NET_3)\n",
    "Dense_layer_2 = Dense(100, activation='relu')(Dense_layer_1)\n",
    "output_layer = Dense(1, activation='sigmoid')(Dense_layer_2)\n",
    "\n",
    "model_yesRelu = Model(inputs=[input_layer], outputs=[output_layer])\n",
    "model_yesRelu.compile(optimizer='adam', loss='binary_crossentropy', metrics=['acc'])"
   ]
  },
  {
   "cell_type": "code",
   "execution_count": null,
   "metadata": {},
   "outputs": [],
   "source": [
    "BATCH_SIZE = 8\n",
    "EPOCHS = 13\n",
    "history_yesRelu = model_yesRelu.fit(\n",
    "    x=X_train, \n",
    "    y=y_train, \n",
    "    batch_size=BATCH_SIZE,\n",
    "    epochs=EPOCHS,\n",
    "    validation_data=(X_valid, y_valid),\n",
    "    verbose=1)"
   ]
  },
  {
   "cell_type": "code",
   "execution_count": null,
   "metadata": {},
   "outputs": [],
   "source": [
    "temp = model_yesRelu.predict(X_valid).flatten()\n",
    "print(roc_auc_score(y_valid, temp))\n",
    "print(recall_score(y_valid, pd.Series(temp).apply(lambda x: 1 if x > 0.5 else 0)))\n",
    "print(precision_score(y_valid, pd.Series(temp).apply(lambda x: 1 if x > 0.5 else 0)))\n",
    "print(f1_score(y_valid, pd.Series(temp).apply(lambda x: 1 if x > 0.5 else 0)))"
   ]
  },
  {
   "cell_type": "code",
   "execution_count": null,
   "metadata": {},
   "outputs": [],
   "source": [
    "BATCH_SIZE = 8\n",
    "EPOCHS = 13\n",
    "history_yesRelu = model_yesRelu.fit(\n",
    "    x=X_train, \n",
    "    y=y_train, \n",
    "    batch_size=BATCH_SIZE,\n",
    "    epochs=EPOCHS,\n",
    "    validation_data=(X_valid, y_valid),\n",
    "    verbose=1)"
   ]
  },
  {
   "cell_type": "code",
   "execution_count": null,
   "metadata": {},
   "outputs": [],
   "source": [
    "temp = model_yesRelu.predict(X_valid).flatten()\n",
    "print(roc_auc_score(y_valid, temp))\n",
    "print(recall_score(y_valid, pd.Series(temp).apply(lambda x: 1 if x > 0.5 else 0)))\n",
    "print(precision_score(y_valid, pd.Series(temp).apply(lambda x: 1 if x > 0.5 else 0)))\n",
    "print(f1_score(y_valid, pd.Series(temp).apply(lambda x: 1 if x > 0.5 else 0)))"
   ]
  },
  {
   "cell_type": "code",
   "execution_count": null,
   "metadata": {},
   "outputs": [],
   "source": [
    "result = pd.DataFrame(dict(val_loss=history_yesRelu.history['val_loss'], val_acc=history_yesRelu.history['val_acc']))\n",
    "\n",
    "plt.figure(figsize=(14,6))\n",
    "# sns.pointplot(x=result.index, y=result['val_loss'], color='blue')\n",
    "sns.pointplot(x=result.index, y=result['val_acc'])\n",
    "plt.title('Accuracy of Validation')\n",
    "plt.ylabel('Accuracy(%)')\n",
    "plt.xlabel('Epoch')"
   ]
  },
  {
   "cell_type": "code",
   "execution_count": null,
   "metadata": {},
   "outputs": [],
   "source": [
    "print(roc_auc_score(y_valid, temp.flatten()))\n",
    "print(recall_score(y_valid, pd.Series(temp.flatten()).apply(lambda x: 1 if x > 0.5 else 0)))\n",
    "print(precision_score(y_valid, pd.Series(temp.flatten()).apply(lambda x: 1 if x > 0.5 else 0)))\n",
    "print(f1_score(y_valid, pd.Series(temp.flatten()).apply(lambda x: 1 if x > 0.5 else 0)))"
   ]
  }
 ],
 "metadata": {
  "kernelspec": {
   "display_name": "Python 3",
   "language": "python",
   "name": "python3"
  },
  "language_info": {
   "codemirror_mode": {
    "name": "ipython",
    "version": 3
   },
   "file_extension": ".py",
   "mimetype": "text/x-python",
   "name": "python",
   "nbconvert_exporter": "python",
   "pygments_lexer": "ipython3",
   "version": "3.7.9"
  }
 },
 "nbformat": 4,
 "nbformat_minor": 4
}
