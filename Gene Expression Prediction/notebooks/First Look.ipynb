{
  "nbformat": 4,
  "nbformat_minor": 0,
  "metadata": {
    "kernelspec": {
      "display_name": "Python 3",
      "language": "python",
      "name": "python3"
    },
    "language_info": {
      "codemirror_mode": {
        "name": "ipython",
        "version": 3
      },
      "file_extension": ".py",
      "mimetype": "text/x-python",
      "name": "python",
      "nbconvert_exporter": "python",
      "pygments_lexer": "ipython3",
      "version": "3.8.3"
    },
    "colab": {
      "name": "First Look.ipynb",
      "provenance": []
    },
    "accelerator": "TPU"
  },
  "cells": [
    {
      "cell_type": "code",
      "metadata": {
        "id": "qCNelNp8T5pj",
        "colab_type": "code",
        "colab": {
          "base_uri": "https://localhost:8080/",
          "height": 54
        },
        "outputId": "804d00af-b8aa-44e2-d2a7-99c6e564aaa2"
      },
      "source": [
        "import os\n",
        "import glob\n",
        "from google.colab import drive\n",
        "drive.mount('/content/gdrive')\n",
        "\n",
        "import pandas as pd\n",
        "import numpy as np\n",
        "# import tensorflow\n",
        "import seaborn as sns\n",
        "import matplotlib.pyplot as plt\n",
        "plt.style.use('seaborn')\n",
        "pd.set_option('display.max_rows', 500)\n",
        "\n",
        "from sklearn.svm import SVC\n",
        "from sklearn.model_selection import train_test_split, KFold\n",
        "from sklearn.metrics import roc_auc_score\n",
        "import xgboost as xgb\n",
        "import lightgbm as lgb"
      ],
      "execution_count": 46,
      "outputs": [
        {
          "output_type": "stream",
          "text": [
            "Drive already mounted at /content/gdrive; to attempt to forcibly remount, call drive.mount(\"/content/gdrive\", force_remount=True).\n"
          ],
          "name": "stdout"
        }
      ]
    },
    {
      "cell_type": "code",
      "metadata": {
        "id": "0vxpgwWCT5pn",
        "colab_type": "code",
        "colab": {}
      },
      "source": [
        "X_path, y_path = glob.glob('gdrive/My Drive/Gene Expression Prediction/data/train/*')\n",
        "X_train = pd.read_csv(X_path)\n",
        "y_train = pd.read_csv(y_path)"
      ],
      "execution_count": 2,
      "outputs": []
    },
    {
      "cell_type": "code",
      "metadata": {
        "id": "ry-_dayUVSZ3",
        "colab_type": "code",
        "colab": {
          "base_uri": "https://localhost:8080/",
          "height": 137
        },
        "outputId": "880b1ca1-cd15-42f9-9fa7-f9e8226af60e"
      },
      "source": [
        "X_train.head(3)"
      ],
      "execution_count": 3,
      "outputs": [
        {
          "output_type": "execute_result",
          "data": {
            "text/html": [
              "<div>\n",
              "<style scoped>\n",
              "    .dataframe tbody tr th:only-of-type {\n",
              "        vertical-align: middle;\n",
              "    }\n",
              "\n",
              "    .dataframe tbody tr th {\n",
              "        vertical-align: top;\n",
              "    }\n",
              "\n",
              "    .dataframe thead th {\n",
              "        text-align: right;\n",
              "    }\n",
              "</style>\n",
              "<table border=\"1\" class=\"dataframe\">\n",
              "  <thead>\n",
              "    <tr style=\"text-align: right;\">\n",
              "      <th></th>\n",
              "      <th>GeneId</th>\n",
              "      <th>H3K4me3</th>\n",
              "      <th>H3K4me1</th>\n",
              "      <th>H3K36me3</th>\n",
              "      <th>H3K9me3</th>\n",
              "      <th>H3K27me3</th>\n",
              "    </tr>\n",
              "  </thead>\n",
              "  <tbody>\n",
              "    <tr>\n",
              "      <th>0</th>\n",
              "      <td>1</td>\n",
              "      <td>2</td>\n",
              "      <td>1</td>\n",
              "      <td>4</td>\n",
              "      <td>1</td>\n",
              "      <td>0</td>\n",
              "    </tr>\n",
              "    <tr>\n",
              "      <th>1</th>\n",
              "      <td>1</td>\n",
              "      <td>0</td>\n",
              "      <td>2</td>\n",
              "      <td>1</td>\n",
              "      <td>1</td>\n",
              "      <td>1</td>\n",
              "    </tr>\n",
              "    <tr>\n",
              "      <th>2</th>\n",
              "      <td>1</td>\n",
              "      <td>0</td>\n",
              "      <td>0</td>\n",
              "      <td>4</td>\n",
              "      <td>1</td>\n",
              "      <td>1</td>\n",
              "    </tr>\n",
              "  </tbody>\n",
              "</table>\n",
              "</div>"
            ],
            "text/plain": [
              "   GeneId  H3K4me3  H3K4me1  H3K36me3  H3K9me3  H3K27me3\n",
              "0       1        2        1         4        1         0\n",
              "1       1        0        2         1        1         1\n",
              "2       1        0        0         4        1         1"
            ]
          },
          "metadata": {
            "tags": []
          },
          "execution_count": 3
        }
      ]
    },
    {
      "cell_type": "markdown",
      "metadata": {
        "id": "9l4GMYTnVWvw",
        "colab_type": "text"
      },
      "source": [
        "### H3K4me3\n",
        "- DNA 패키징 단백질 히스톤 H3에 대한 후성유전적 변형\n",
        "- 히스톤 H3 단백질(H3)의 4번째 라이신 잔기(K4)에서 트릴메틸화 변형(me3)을 나타냄\n",
        "\t- 라이신: K로 표기, HO2CCH (NH2) (CH2) 4NH2를 갖는 α- 아미노산, 필수 아미노산\n",
        "\t- 트릴메틸화 변형: 3개의 메틸 그룹이 히스톤이 붙는 것, me3\n",
        "\t- 3개의 메틸그룹이 H3K4에 붙어 H3K4me3가 히스톤 테일 프로모터 부분에 많이 있게 됨\n",
        "- 유전자 발현 조절에 관여하는 마커(전사활성화(transcription activation) 마커)\n",
        "\n",
        "\n",
        "### H3K4me1\n",
        "- DNA 패키징 단백질 Histone H3에 대한 후성유전적 변형\n",
        "- 히스톤 H3 단백질(H3)의 4번째 라이신 잔기(K4)에서 모노메틸화(me1) 변형을 나타냄\n",
        "- 유전자 인핸서와 관련 있는 표시\n",
        "\t- 인핸서(Enhancer): 프로모터에서 멀리 떨어진 위치에서 유전자의 전사(transcription)를 조절하는 DNA 염기서열\n",
        "\t- [Reference](http://www.ksmcb.or.kr/file/webzine/2015_08_03.pdf)\n",
        "\n",
        "### H3K36me3\n",
        "- DNA 패키징 단백질 Histone H3에 대한 후성유전적 변형\n",
        "- 히스톤 H3 단백질의 36번째 라이신 잔기(K36)에서 트릴메틸화 변형(me3)을 나타냄\n",
        "- 유전자 본체와 관련 있는 표시\n",
        "\n",
        "\n",
        "### H3K9me3\n",
        "- DNA 패키징 단백질 Histone H3에 대한 후성유전적 변형\n",
        "- 히스톤 H3 단백질의 9번째 라이신 잔기(K9)에서 트릴메틸화(me3)를 나타냄\n",
        "- 헤테로크로마틴과 관련 있는 표시\n",
        "\t- 헤테로크로마틴(Heterocromatin): DNA가 히스톤을 빠듯하게 감고 있는 뉴클레오좀 상태\n",
        "\t- 유크로마틴(Euchromatin): DNA가 히스톤을 느슨하게 감고 있는 뉴클레오좀 상태\n",
        "\t- 히스톤 꼬리(tail)에 달라 붙는 효소와 단백질에 따라 뉴클레오좀 상태가 결정됨. 즉, 달라붙은 단백질를 표식(Marker)으로 삼아 뉴클레오좀 상태를 가늠할 수 있음\n",
        "\n",
        "### H3K27me3\n",
        "- DNA 패키징 단백질 Histone H3에 대한 후성유전적 변형\n",
        "- 히스톤 H3 단백질의 27 번째 라이신 잔기에서 트리메틸 화를 나타내는 마크\n",
        "- 트리메틸화는 헤테로크로마틱 영역 구성을 통해 근처 유전자의 하향조절(downregulation)과 관련"
      ]
    },
    {
      "cell_type": "code",
      "metadata": {
        "id": "0mEHwjg5T5pr",
        "colab_type": "code",
        "colab": {
          "base_uri": "https://localhost:8080/",
          "height": 137
        },
        "outputId": "ab106e05-72d8-4c85-c01b-f347786e5479"
      },
      "source": [
        "train_raw = X_train.merge(y_train, how='left', on='GeneId')\n",
        "train_raw.head(3)"
      ],
      "execution_count": 4,
      "outputs": [
        {
          "output_type": "execute_result",
          "data": {
            "text/html": [
              "<div>\n",
              "<style scoped>\n",
              "    .dataframe tbody tr th:only-of-type {\n",
              "        vertical-align: middle;\n",
              "    }\n",
              "\n",
              "    .dataframe tbody tr th {\n",
              "        vertical-align: top;\n",
              "    }\n",
              "\n",
              "    .dataframe thead th {\n",
              "        text-align: right;\n",
              "    }\n",
              "</style>\n",
              "<table border=\"1\" class=\"dataframe\">\n",
              "  <thead>\n",
              "    <tr style=\"text-align: right;\">\n",
              "      <th></th>\n",
              "      <th>GeneId</th>\n",
              "      <th>H3K4me3</th>\n",
              "      <th>H3K4me1</th>\n",
              "      <th>H3K36me3</th>\n",
              "      <th>H3K9me3</th>\n",
              "      <th>H3K27me3</th>\n",
              "      <th>Prediction</th>\n",
              "    </tr>\n",
              "  </thead>\n",
              "  <tbody>\n",
              "    <tr>\n",
              "      <th>0</th>\n",
              "      <td>1</td>\n",
              "      <td>2</td>\n",
              "      <td>1</td>\n",
              "      <td>4</td>\n",
              "      <td>1</td>\n",
              "      <td>0</td>\n",
              "      <td>0</td>\n",
              "    </tr>\n",
              "    <tr>\n",
              "      <th>1</th>\n",
              "      <td>1</td>\n",
              "      <td>0</td>\n",
              "      <td>2</td>\n",
              "      <td>1</td>\n",
              "      <td>1</td>\n",
              "      <td>1</td>\n",
              "      <td>0</td>\n",
              "    </tr>\n",
              "    <tr>\n",
              "      <th>2</th>\n",
              "      <td>1</td>\n",
              "      <td>0</td>\n",
              "      <td>0</td>\n",
              "      <td>4</td>\n",
              "      <td>1</td>\n",
              "      <td>1</td>\n",
              "      <td>0</td>\n",
              "    </tr>\n",
              "  </tbody>\n",
              "</table>\n",
              "</div>"
            ],
            "text/plain": [
              "   GeneId  H3K4me3  H3K4me1  H3K36me3  H3K9me3  H3K27me3  Prediction\n",
              "0       1        2        1         4        1         0           0\n",
              "1       1        0        2         1        1         1           0\n",
              "2       1        0        0         4        1         1           0"
            ]
          },
          "metadata": {
            "tags": []
          },
          "execution_count": 4
        }
      ]
    },
    {
      "cell_type": "code",
      "metadata": {
        "id": "A1Xy55JAT5pt",
        "colab_type": "code",
        "colab": {}
      },
      "source": [
        "yesExpression = train_raw[train_raw['Prediction']==1].reset_index(drop=True)\n",
        "noExpression = train_raw[train_raw['Prediction']==0].reset_index(drop=True)"
      ],
      "execution_count": 5,
      "outputs": []
    },
    {
      "cell_type": "code",
      "metadata": {
        "id": "85Pp04KWT5pv",
        "colab_type": "code",
        "colab": {
          "base_uri": "https://localhost:8080/",
          "height": 421
        },
        "outputId": "005aa3b9-1429-41a4-cd45-f5d36606cb8e"
      },
      "source": [
        "temp = train_raw.groupby(['Prediction']).median().drop('GeneId', axis=1)\n",
        "temp = temp.reset_index()\n",
        "temp = pd.melt(temp, id_vars='Prediction')\n",
        "\n",
        "plt.figure(figsize=(10, 6))\n",
        "sns.barplot(x='variable', y='value', hue='Prediction', data=temp)\n",
        "plt.title('H3 Modification Region Index (Median)')"
      ],
      "execution_count": 43,
      "outputs": [
        {
          "output_type": "execute_result",
          "data": {
            "text/plain": [
              "Text(0.5, 1.0, 'H3 Modification Region Index (Median)')"
            ]
          },
          "metadata": {
            "tags": []
          },
          "execution_count": 43
        },
        {
          "output_type": "display_data",
          "data": {
            "image/png": "[encoded data removed]",
            "text/plain": [
              "<Figure size 720x432 with 1 Axes>"
            ]
          },
          "metadata": {
            "tags": []
          }
        }
      ]
    },
    {
      "cell_type": "code",
      "metadata": {
        "id": "FvTg0xuMXBYW",
        "colab_type": "code",
        "colab": {
          "base_uri": "https://localhost:8080/",
          "height": 421
        },
        "outputId": "54b094cf-d851-407c-960b-0cb90d1c9b20"
      },
      "source": [
        "temp = train_raw.groupby(['Prediction']).mean().drop('GeneId', axis=1)\n",
        "temp = temp.reset_index()\n",
        "temp = pd.melt(temp, id_vars='Prediction')\n",
        "\n",
        "plt.figure(figsize=(10, 6))\n",
        "sns.barplot(x='variable', y='value', hue='Prediction', data=temp)\n",
        "plt.title('H3 Modification Region Index (Mean)')"
      ],
      "execution_count": 44,
      "outputs": [
        {
          "output_type": "execute_result",
          "data": {
            "text/plain": [
              "Text(0.5, 1.0, 'H3 Modification Region Index (Mean)')"
            ]
          },
          "metadata": {
            "tags": []
          },
          "execution_count": 44
        },
        {
          "output_type": "display_data",
          "data": {
            "image/png": "[encoded data removed]",
            "text/plain": [
              "<Figure size 720x432 with 1 Axes>"
            ]
          },
          "metadata": {
            "tags": []
          }
        }
      ]
    },
    {
      "cell_type": "code",
      "metadata": {
        "id": "PA-ap75HXGUU",
        "colab_type": "code",
        "colab": {
          "base_uri": "https://localhost:8080/",
          "height": 421
        },
        "outputId": "2918c24b-0a99-42c2-c90e-bfbd9039d87e"
      },
      "source": [
        "temp = train_raw.groupby(['Prediction']).std().drop('GeneId', axis=1)\n",
        "temp = temp.reset_index()\n",
        "temp = pd.melt(temp, id_vars='Prediction')\n",
        "\n",
        "plt.figure(figsize=(10, 6))\n",
        "sns.barplot(x='variable', y='value', hue='Prediction', data=temp)\n",
        "plt.title('H3 Modification Region Index (std)')"
      ],
      "execution_count": 46,
      "outputs": [
        {
          "output_type": "execute_result",
          "data": {
            "text/plain": [
              "Text(0.5, 1.0, 'H3 Modification Region Index (std)')"
            ]
          },
          "metadata": {
            "tags": []
          },
          "execution_count": 46
        },
        {
          "output_type": "display_data",
          "data": {
            "image/png": "[encoded data removed]",
            "text/plain": [
              "<Figure size 720x432 with 1 Axes>"
            ]
          },
          "metadata": {
            "tags": []
          }
        }
      ]
    },
    {
      "cell_type": "code",
      "metadata": {
        "id": "BrtrvJ1jXX3T",
        "colab_type": "code",
        "colab": {}
      },
      "source": [
        "feature_list = ['H3K4me3', 'H3K4me1', 'H3K36me3', 'H3K9me3', 'H3K27me3']\n",
        "\n",
        "def plotDist(feature=feature_list[0], figsize=(10,6), estimator='mean'):\n",
        "    if estimator=='mean':\n",
        "        plt.figure(figsize=(10,6))\n",
        "        temp = train_raw[['GeneId', f'{feature}', 'Prediction']].groupby('GeneId').mean()\n",
        "        temp_yesExp = temp[temp['Prediction']==1]\n",
        "        temp_noExp = temp[temp['Prediction']==0]\n",
        "        sns.distplot(temp_yesExp[f'{feature}'], norm_hist=True, label='Yes Expression')\n",
        "        sns.distplot(temp_noExp[f'{feature}'], norm_hist=True, label='No Expression')\n",
        "        plt.legend()\n",
        "        plt.show()\n",
        "    elif estimator=='median':\n",
        "        plt.figure(figsize=(10,6))\n",
        "        temp = train_raw[['GeneId', f'{feature}', 'Prediction']].groupby('GeneId').median()\n",
        "        temp_yesExp = temp[temp['Prediction']==1]\n",
        "        temp_noExp = temp[temp['Prediction']==0]\n",
        "        sns.distplot(temp_yesExp[f'{feature}'], norm_hist=True, label='Yes Expression', kde=False)\n",
        "        sns.distplot(temp_noExp[f'{feature}'], norm_hist=True, label='No Expression', kde=False)\n",
        "        plt.legend()\n",
        "        plt.show()"
      ],
      "execution_count": 47,
      "outputs": []
    },
    {
      "cell_type": "code",
      "metadata": {
        "id": "7Ny2fOqOY0be",
        "colab_type": "code",
        "colab": {
          "base_uri": "https://localhost:8080/",
          "height": 1000
        },
        "outputId": "9117d07f-f95e-4b67-92c2-ee023700fdbc"
      },
      "source": [
        "for f in feature_list:\n",
        "    plotDist(feature=f, figsize=(5,3))"
      ],
      "execution_count": 48,
      "outputs": [
        {
          "output_type": "display_data",
          "data": {
            "image/png": "[encoded data removed]",
            "text/plain": [
              "<Figure size 720x432 with 1 Axes>"
            ]
          },
          "metadata": {
            "tags": []
          }
        },
        {
          "output_type": "display_data",
          "data": {
            "image/png": "[encoded data removed]",
            "text/plain": [
              "<Figure size 720x432 with 1 Axes>"
            ]
          },
          "metadata": {
            "tags": []
          }
        },
        {
          "output_type": "display_data",
          "data": {
            "image/png": "[encoded data removed]",
            "text/plain": [
              "<Figure size 720x432 with 1 Axes>"
            ]
          },
          "metadata": {
            "tags": []
          }
        },
        {
          "output_type": "display_data",
          "data": {
            "image/png": "[encoded data removed]",
            "text/plain": [
              "<Figure size 720x432 with 1 Axes>"
            ]
          },
          "metadata": {
            "tags": []
          }
        },
        {
          "output_type": "display_data",
          "data": {
            "image/png": "[encoded data removed]",
            "text/plain": [
              "<Figure size 720x432 with 1 Axes>"
            ]
          },
          "metadata": {
            "tags": []
          }
        }
      ]
    },
    {
      "cell_type": "markdown",
      "metadata": {
        "id": "od0ElaLNZp2g",
        "colab_type": "text"
      },
      "source": [
        "H3K9me3, H3K36me3, H3K4me1: 유전자 발현 여부에 따라 확연한 분포 차이를 보임"
      ]
    },
    {
      "cell_type": "code",
      "metadata": {
        "id": "2WCGiUIfZQt1",
        "colab_type": "code",
        "colab": {
          "base_uri": "https://localhost:8080/",
          "height": 1000
        },
        "outputId": "002ddfb9-59aa-4f8b-9c81-2ee359ae0f0a"
      },
      "source": [
        "for f in feature_list:\n",
        "    plotDist(feature=f, estimator='median', figsize=(5,3))"
      ],
      "execution_count": 49,
      "outputs": [
        {
          "output_type": "display_data",
          "data": {
            "image/png": "[encoded data removed]",
            "text/plain": [
              "<Figure size 720x432 with 1 Axes>"
            ]
          },
          "metadata": {
            "tags": []
          }
        },
        {
          "output_type": "display_data",
          "data": {
            "image/png": "[encoded data removed]",
            "text/plain": [
              "<Figure size 720x432 with 1 Axes>"
            ]
          },
          "metadata": {
            "tags": []
          }
        },
        {
          "output_type": "display_data",
          "data": {
            "image/png": "[encoded data removed]",
            "text/plain": [
              "<Figure size 720x432 with 1 Axes>"
            ]
          },
          "metadata": {
            "tags": []
          }
        },
        {
          "output_type": "display_data",
          "data": {
            "image/png": "[encoded data removed]",
            "text/plain": [
              "<Figure size 720x432 with 1 Axes>"
            ]
          },
          "metadata": {
            "tags": []
          }
        },
        {
          "output_type": "display_data",
          "data": {
            "image/png": "[encoded data removed]",
            "text/plain": [
              "<Figure size 720x432 with 1 Axes>"
            ]
          },
          "metadata": {
            "tags": []
          }
        }
      ]
    },
    {
      "cell_type": "code",
      "metadata": {
        "id": "qE1lXd0hc-xR",
        "colab_type": "code",
        "colab": {
          "base_uri": "https://localhost:8080/",
          "height": 186
        },
        "outputId": "5ac01511-d13f-4a64-aee9-5a327b455aa9"
      },
      "source": [
        "train_TCN = pd.DataFrame(\n",
        "    np.vstack(\n",
        "        (\n",
        "            train_raw\n",
        "         .groupby('GeneId')\n",
        "         .apply(lambda x: x.drop(['GeneId', 'Prediction'], axis=1)\n",
        "        .values.reshape(500, 1)))\n",
        "        .apply(lambda x: x.flatten())\n",
        "        .values\n",
        "        )\n",
        ")\n",
        "train_TCN['GeneId'] = train_raw['GeneId'].unique().tolist()\n",
        "train_TCN = (\n",
        "    train_TCN.merge(\n",
        "        train_raw\n",
        "        .groupby('GeneId')['Prediction']\n",
        "        .first().to_frame('Prediction')\n",
        "        .reset_index(), \n",
        "        how='left', \n",
        "        on='GeneId'\n",
        "        )\n",
        "    )\n",
        "\n",
        "train_TCN.head(3)"
      ],
      "execution_count": 6,
      "outputs": [
        {
          "output_type": "execute_result",
          "data": {
            "text/html": [
              "<div>\n",
              "<style scoped>\n",
              "    .dataframe tbody tr th:only-of-type {\n",
              "        vertical-align: middle;\n",
              "    }\n",
              "\n",
              "    .dataframe tbody tr th {\n",
              "        vertical-align: top;\n",
              "    }\n",
              "\n",
              "    .dataframe thead th {\n",
              "        text-align: right;\n",
              "    }\n",
              "</style>\n",
              "<table border=\"1\" class=\"dataframe\">\n",
              "  <thead>\n",
              "    <tr style=\"text-align: right;\">\n",
              "      <th></th>\n",
              "      <th>0</th>\n",
              "      <th>1</th>\n",
              "      <th>2</th>\n",
              "      <th>3</th>\n",
              "      <th>4</th>\n",
              "      <th>5</th>\n",
              "      <th>6</th>\n",
              "      <th>7</th>\n",
              "      <th>8</th>\n",
              "      <th>9</th>\n",
              "      <th>10</th>\n",
              "      <th>11</th>\n",
              "      <th>12</th>\n",
              "      <th>13</th>\n",
              "      <th>14</th>\n",
              "      <th>15</th>\n",
              "      <th>16</th>\n",
              "      <th>17</th>\n",
              "      <th>18</th>\n",
              "      <th>19</th>\n",
              "      <th>20</th>\n",
              "      <th>21</th>\n",
              "      <th>22</th>\n",
              "      <th>23</th>\n",
              "      <th>24</th>\n",
              "      <th>25</th>\n",
              "      <th>26</th>\n",
              "      <th>27</th>\n",
              "      <th>28</th>\n",
              "      <th>29</th>\n",
              "      <th>30</th>\n",
              "      <th>31</th>\n",
              "      <th>32</th>\n",
              "      <th>33</th>\n",
              "      <th>34</th>\n",
              "      <th>35</th>\n",
              "      <th>36</th>\n",
              "      <th>37</th>\n",
              "      <th>38</th>\n",
              "      <th>39</th>\n",
              "      <th>...</th>\n",
              "      <th>462</th>\n",
              "      <th>463</th>\n",
              "      <th>464</th>\n",
              "      <th>465</th>\n",
              "      <th>466</th>\n",
              "      <th>467</th>\n",
              "      <th>468</th>\n",
              "      <th>469</th>\n",
              "      <th>470</th>\n",
              "      <th>471</th>\n",
              "      <th>472</th>\n",
              "      <th>473</th>\n",
              "      <th>474</th>\n",
              "      <th>475</th>\n",
              "      <th>476</th>\n",
              "      <th>477</th>\n",
              "      <th>478</th>\n",
              "      <th>479</th>\n",
              "      <th>480</th>\n",
              "      <th>481</th>\n",
              "      <th>482</th>\n",
              "      <th>483</th>\n",
              "      <th>484</th>\n",
              "      <th>485</th>\n",
              "      <th>486</th>\n",
              "      <th>487</th>\n",
              "      <th>488</th>\n",
              "      <th>489</th>\n",
              "      <th>490</th>\n",
              "      <th>491</th>\n",
              "      <th>492</th>\n",
              "      <th>493</th>\n",
              "      <th>494</th>\n",
              "      <th>495</th>\n",
              "      <th>496</th>\n",
              "      <th>497</th>\n",
              "      <th>498</th>\n",
              "      <th>499</th>\n",
              "      <th>GeneId</th>\n",
              "      <th>Prediction</th>\n",
              "    </tr>\n",
              "  </thead>\n",
              "  <tbody>\n",
              "    <tr>\n",
              "      <th>0</th>\n",
              "      <td>2</td>\n",
              "      <td>1</td>\n",
              "      <td>4</td>\n",
              "      <td>1</td>\n",
              "      <td>0</td>\n",
              "      <td>0</td>\n",
              "      <td>2</td>\n",
              "      <td>1</td>\n",
              "      <td>1</td>\n",
              "      <td>1</td>\n",
              "      <td>0</td>\n",
              "      <td>0</td>\n",
              "      <td>4</td>\n",
              "      <td>1</td>\n",
              "      <td>1</td>\n",
              "      <td>0</td>\n",
              "      <td>2</td>\n",
              "      <td>2</td>\n",
              "      <td>0</td>\n",
              "      <td>1</td>\n",
              "      <td>2</td>\n",
              "      <td>0</td>\n",
              "      <td>0</td>\n",
              "      <td>0</td>\n",
              "      <td>0</td>\n",
              "      <td>1</td>\n",
              "      <td>2</td>\n",
              "      <td>0</td>\n",
              "      <td>0</td>\n",
              "      <td>1</td>\n",
              "      <td>2</td>\n",
              "      <td>2</td>\n",
              "      <td>2</td>\n",
              "      <td>0</td>\n",
              "      <td>1</td>\n",
              "      <td>1</td>\n",
              "      <td>1</td>\n",
              "      <td>4</td>\n",
              "      <td>2</td>\n",
              "      <td>2</td>\n",
              "      <td>...</td>\n",
              "      <td>0</td>\n",
              "      <td>0</td>\n",
              "      <td>0</td>\n",
              "      <td>4</td>\n",
              "      <td>1</td>\n",
              "      <td>1</td>\n",
              "      <td>0</td>\n",
              "      <td>1</td>\n",
              "      <td>1</td>\n",
              "      <td>0</td>\n",
              "      <td>0</td>\n",
              "      <td>0</td>\n",
              "      <td>1</td>\n",
              "      <td>1</td>\n",
              "      <td>0</td>\n",
              "      <td>0</td>\n",
              "      <td>1</td>\n",
              "      <td>1</td>\n",
              "      <td>3</td>\n",
              "      <td>0</td>\n",
              "      <td>0</td>\n",
              "      <td>1</td>\n",
              "      <td>1</td>\n",
              "      <td>1</td>\n",
              "      <td>0</td>\n",
              "      <td>1</td>\n",
              "      <td>0</td>\n",
              "      <td>0</td>\n",
              "      <td>2</td>\n",
              "      <td>2</td>\n",
              "      <td>1</td>\n",
              "      <td>0</td>\n",
              "      <td>0</td>\n",
              "      <td>4</td>\n",
              "      <td>1</td>\n",
              "      <td>0</td>\n",
              "      <td>0</td>\n",
              "      <td>1</td>\n",
              "      <td>1</td>\n",
              "      <td>0</td>\n",
              "    </tr>\n",
              "    <tr>\n",
              "      <th>1</th>\n",
              "      <td>1</td>\n",
              "      <td>0</td>\n",
              "      <td>1</td>\n",
              "      <td>0</td>\n",
              "      <td>0</td>\n",
              "      <td>0</td>\n",
              "      <td>0</td>\n",
              "      <td>0</td>\n",
              "      <td>0</td>\n",
              "      <td>0</td>\n",
              "      <td>2</td>\n",
              "      <td>0</td>\n",
              "      <td>0</td>\n",
              "      <td>0</td>\n",
              "      <td>0</td>\n",
              "      <td>1</td>\n",
              "      <td>1</td>\n",
              "      <td>0</td>\n",
              "      <td>1</td>\n",
              "      <td>0</td>\n",
              "      <td>0</td>\n",
              "      <td>1</td>\n",
              "      <td>0</td>\n",
              "      <td>1</td>\n",
              "      <td>2</td>\n",
              "      <td>0</td>\n",
              "      <td>1</td>\n",
              "      <td>0</td>\n",
              "      <td>0</td>\n",
              "      <td>0</td>\n",
              "      <td>3</td>\n",
              "      <td>0</td>\n",
              "      <td>1</td>\n",
              "      <td>0</td>\n",
              "      <td>1</td>\n",
              "      <td>3</td>\n",
              "      <td>0</td>\n",
              "      <td>0</td>\n",
              "      <td>0</td>\n",
              "      <td>1</td>\n",
              "      <td>...</td>\n",
              "      <td>0</td>\n",
              "      <td>0</td>\n",
              "      <td>1</td>\n",
              "      <td>1</td>\n",
              "      <td>1</td>\n",
              "      <td>2</td>\n",
              "      <td>0</td>\n",
              "      <td>1</td>\n",
              "      <td>2</td>\n",
              "      <td>2</td>\n",
              "      <td>0</td>\n",
              "      <td>2</td>\n",
              "      <td>0</td>\n",
              "      <td>2</td>\n",
              "      <td>0</td>\n",
              "      <td>0</td>\n",
              "      <td>1</td>\n",
              "      <td>0</td>\n",
              "      <td>2</td>\n",
              "      <td>0</td>\n",
              "      <td>0</td>\n",
              "      <td>0</td>\n",
              "      <td>1</td>\n",
              "      <td>1</td>\n",
              "      <td>0</td>\n",
              "      <td>0</td>\n",
              "      <td>0</td>\n",
              "      <td>3</td>\n",
              "      <td>5</td>\n",
              "      <td>1</td>\n",
              "      <td>1</td>\n",
              "      <td>1</td>\n",
              "      <td>2</td>\n",
              "      <td>2</td>\n",
              "      <td>1</td>\n",
              "      <td>0</td>\n",
              "      <td>0</td>\n",
              "      <td>0</td>\n",
              "      <td>2</td>\n",
              "      <td>0</td>\n",
              "    </tr>\n",
              "    <tr>\n",
              "      <th>2</th>\n",
              "      <td>1</td>\n",
              "      <td>6</td>\n",
              "      <td>3</td>\n",
              "      <td>1</td>\n",
              "      <td>1</td>\n",
              "      <td>1</td>\n",
              "      <td>6</td>\n",
              "      <td>1</td>\n",
              "      <td>2</td>\n",
              "      <td>2</td>\n",
              "      <td>0</td>\n",
              "      <td>3</td>\n",
              "      <td>3</td>\n",
              "      <td>2</td>\n",
              "      <td>1</td>\n",
              "      <td>0</td>\n",
              "      <td>8</td>\n",
              "      <td>7</td>\n",
              "      <td>1</td>\n",
              "      <td>0</td>\n",
              "      <td>0</td>\n",
              "      <td>11</td>\n",
              "      <td>5</td>\n",
              "      <td>0</td>\n",
              "      <td>3</td>\n",
              "      <td>0</td>\n",
              "      <td>10</td>\n",
              "      <td>5</td>\n",
              "      <td>2</td>\n",
              "      <td>2</td>\n",
              "      <td>1</td>\n",
              "      <td>7</td>\n",
              "      <td>2</td>\n",
              "      <td>0</td>\n",
              "      <td>1</td>\n",
              "      <td>2</td>\n",
              "      <td>7</td>\n",
              "      <td>1</td>\n",
              "      <td>3</td>\n",
              "      <td>2</td>\n",
              "      <td>...</td>\n",
              "      <td>2</td>\n",
              "      <td>2</td>\n",
              "      <td>1</td>\n",
              "      <td>2</td>\n",
              "      <td>2</td>\n",
              "      <td>1</td>\n",
              "      <td>4</td>\n",
              "      <td>1</td>\n",
              "      <td>2</td>\n",
              "      <td>2</td>\n",
              "      <td>4</td>\n",
              "      <td>0</td>\n",
              "      <td>1</td>\n",
              "      <td>1</td>\n",
              "      <td>2</td>\n",
              "      <td>1</td>\n",
              "      <td>0</td>\n",
              "      <td>0</td>\n",
              "      <td>1</td>\n",
              "      <td>0</td>\n",
              "      <td>3</td>\n",
              "      <td>1</td>\n",
              "      <td>3</td>\n",
              "      <td>1</td>\n",
              "      <td>2</td>\n",
              "      <td>0</td>\n",
              "      <td>1</td>\n",
              "      <td>3</td>\n",
              "      <td>1</td>\n",
              "      <td>1</td>\n",
              "      <td>4</td>\n",
              "      <td>2</td>\n",
              "      <td>0</td>\n",
              "      <td>3</td>\n",
              "      <td>4</td>\n",
              "      <td>4</td>\n",
              "      <td>3</td>\n",
              "      <td>0</td>\n",
              "      <td>3</td>\n",
              "      <td>1</td>\n",
              "    </tr>\n",
              "  </tbody>\n",
              "</table>\n",
              "<p>3 rows × 502 columns</p>\n",
              "</div>"
            ],
            "text/plain": [
              "   0  1  2  3  4  5  6  7  ...  494  495  496  497  498  499  GeneId  Prediction\n",
              "0  2  1  4  1  0  0  2  1  ...    0    4    1    0    0    1       1           0\n",
              "1  1  0  1  0  0  0  0  0  ...    2    2    1    0    0    0       2           0\n",
              "2  1  6  3  1  1  1  6  1  ...    0    3    4    4    3    0       3           1\n",
              "\n",
              "[3 rows x 502 columns]"
            ]
          },
          "metadata": {
            "tags": []
          },
          "execution_count": 6
        }
      ]
    },
    {
      "cell_type": "code",
      "metadata": {
        "id": "fc2bnQI4gQdQ",
        "colab_type": "code",
        "colab": {}
      },
      "source": [
        "path = 'gdrive/My Drive/Gene Expression Prediction/data/'\n",
        "train_TCN.to_csv(os.path.join(path, 'train_TCN.csv'), index=False)"
      ],
      "execution_count": 7,
      "outputs": []
    },
    {
      "cell_type": "code",
      "metadata": {
        "id": "_1g3FBzyfHcP",
        "colab_type": "code",
        "colab": {
          "base_uri": "https://localhost:8080/",
          "height": 34
        },
        "outputId": "aa985762-11c8-4be9-d652-331a8ec03f95"
      },
      "source": [
        "# 데이터 구성\n",
        "train, valid = train_test_split(\n",
        "    train_TCN.drop('GeneId', axis=1), \n",
        "    test_size=.3, \n",
        "    shuffle=True, \n",
        "    random_state=42)\n",
        "train.shape, valid.shape"
      ],
      "execution_count": 8,
      "outputs": [
        {
          "output_type": "execute_result",
          "data": {
            "text/plain": [
              "((10839, 501), (4646, 501))"
            ]
          },
          "metadata": {
            "tags": []
          },
          "execution_count": 8
        }
      ]
    },
    {
      "cell_type": "markdown",
      "metadata": {
        "id": "ZVSg3MRThWEU",
        "colab_type": "text"
      },
      "source": [
        "### XGBoost"
      ]
    },
    {
      "cell_type": "code",
      "metadata": {
        "id": "r9y4HvPGgvzt",
        "colab_type": "code",
        "colab": {
          "base_uri": "https://localhost:8080/",
          "height": 34
        },
        "outputId": "9e2357c2-96bd-45a6-caf2-12343d7799fc"
      },
      "source": [
        "model = (\n",
        "    xgb.XGBClassifier(random_state=42)\n",
        "    .fit(train.drop('Prediction', axis=1).values, train['Prediction'])\n",
        "         )\n",
        "\n",
        "# AUROC\n",
        "roc_auc_score(valid['Prediction'], \n",
        "              model.predict_proba(valid.drop('Prediction', axis=1).values)[:, 1])"
      ],
      "execution_count": 9,
      "outputs": [
        {
          "output_type": "execute_result",
          "data": {
            "text/plain": [
              "0.9142893650678341"
            ]
          },
          "metadata": {
            "tags": []
          },
          "execution_count": 9
        }
      ]
    },
    {
      "cell_type": "code",
      "metadata": {
        "id": "flOlhfEwjEGx",
        "colab_type": "code",
        "colab": {}
      },
      "source": [
        "kf = KFold(n_splits=4, random_state=42, shuffle=True)\n",
        "auc_list = []\n",
        "for train_index, test_index in kf.split(train):\n",
        "    X_train, X_test = train.iloc[train_index.tolist(), :].drop('Prediction', axis=1), train.iloc[test_index.tolist(), :].drop('Prediction', axis=1)\n",
        "    y_train, y_test = train['Prediction'].iloc[train_index.tolist()], train['Prediction'].iloc[test_index.tolist()]\n",
        "\n",
        "    model = (\n",
        "        xgb.XGBClassifier(random_state=42)\n",
        "        .fit(X_train.values, y_train)\n",
        "        )\n",
        "    # AUROC\n",
        "    auc_list.append(roc_auc_score(y_test, \n",
        "              model.predict_proba(X_test.values)[:, 1]))"
      ],
      "execution_count": 25,
      "outputs": []
    },
    {
      "cell_type": "code",
      "metadata": {
        "id": "vlWcgC0GlXfA",
        "colab_type": "code",
        "colab": {
          "base_uri": "https://localhost:8080/",
          "height": 52
        },
        "outputId": "e0e43297-d5d0-45b5-b3c5-518c30242957"
      },
      "source": [
        "print(auc_list)\n",
        "print(np.mean(auc_list))"
      ],
      "execution_count": 28,
      "outputs": [
        {
          "output_type": "stream",
          "text": [
            "[0.9175725658911309, 0.9181631513732111, 0.9038939578131876, 0.9185571564125777]\n",
            "0.9145467078725269\n"
          ],
          "name": "stdout"
        }
      ]
    },
    {
      "cell_type": "markdown",
      "metadata": {
        "id": "-s891P3IXB09",
        "colab_type": "text"
      },
      "source": [
        "### LightGBM"
      ]
    },
    {
      "cell_type": "markdown",
      "metadata": {
        "id": "xTKz9MQCieAb",
        "colab_type": "text"
      },
      "source": [
        "Boosting Type: GOSS"
      ]
    },
    {
      "cell_type": "code",
      "metadata": {
        "id": "WhG8BeL2bPB3",
        "colab_type": "code",
        "colab": {
          "base_uri": "https://localhost:8080/",
          "height": 34
        },
        "outputId": "6ce389e2-c075-4193-adca-a613e50b7f19"
      },
      "source": [
        "model = (\n",
        "    lgb.LGBMClassifier(random_state=42, boosting_type='goss')\n",
        "    .fit(train.drop('Prediction', axis=1).values, train['Prediction'])\n",
        "         )\n",
        "\n",
        "# AUROC\n",
        "roc_auc_score(valid['Prediction'], \n",
        "              model.predict_proba(valid.drop('Prediction', axis=1).values)[:, 1])"
      ],
      "execution_count": 31,
      "outputs": [
        {
          "output_type": "execute_result",
          "data": {
            "text/plain": [
              "0.9100378717682238"
            ]
          },
          "metadata": {
            "tags": []
          },
          "execution_count": 31
        }
      ]
    },
    {
      "cell_type": "code",
      "metadata": {
        "id": "qyyIT6NilYqk",
        "colab_type": "code",
        "colab": {}
      },
      "source": [
        "kf = KFold(n_splits=4, random_state=42, shuffle=True)\n",
        "auc_list = []\n",
        "for train_index, test_index in kf.split(train):\n",
        "    X_train, X_test = train.iloc[train_index.tolist(), :].drop('Prediction', axis=1), train.iloc[test_index.tolist(), :].drop('Prediction', axis=1)\n",
        "    y_train, y_test = train['Prediction'].iloc[train_index.tolist()], train['Prediction'].iloc[test_index.tolist()]\n",
        "\n",
        "    model = (\n",
        "        lgb.LGBMClassifier(random_state=42, boosting_type='goss')\n",
        "        .fit(X_train.values, y_train)\n",
        "        )\n",
        "    # AUROC\n",
        "    auc_list.append(roc_auc_score(y_test, \n",
        "              model.predict_proba(X_test.values)[:, 1]))"
      ],
      "execution_count": 38,
      "outputs": []
    },
    {
      "cell_type": "code",
      "metadata": {
        "id": "eLNyUccKluD7",
        "colab_type": "code",
        "colab": {
          "base_uri": "https://localhost:8080/",
          "height": 52
        },
        "outputId": "7c8298d7-5e7f-4155-e964-1ab72dbe5cbc"
      },
      "source": [
        "print(auc_list)\n",
        "print(np.mean(auc_list))"
      ],
      "execution_count": 39,
      "outputs": [
        {
          "output_type": "stream",
          "text": [
            "[0.9157880002461845, 0.9114720660121731, 0.899307416460787, 0.9169980477057815]\n",
            "0.9108913826062316\n"
          ],
          "name": "stdout"
        }
      ]
    },
    {
      "cell_type": "markdown",
      "metadata": {
        "id": "0q5A_GmTifvk",
        "colab_type": "text"
      },
      "source": [
        "Boosting Type: GBDT"
      ]
    },
    {
      "cell_type": "code",
      "metadata": {
        "id": "hq32PaM2iTMi",
        "colab_type": "code",
        "colab": {
          "base_uri": "https://localhost:8080/",
          "height": 34
        },
        "outputId": "764d4df0-dbef-402e-9521-c4bafadfab83"
      },
      "source": [
        "model = (\n",
        "    lgb.LGBMClassifier(random_state=42, boosting_type='gbdt')\n",
        "    .fit(train.drop('Prediction', axis=1).values, train['Prediction'])\n",
        "         )\n",
        "\n",
        "# AUROC\n",
        "roc_auc_score(valid['Prediction'], \n",
        "              model.predict_proba(valid.drop('Prediction', axis=1).values)[:, 1])"
      ],
      "execution_count": 34,
      "outputs": [
        {
          "output_type": "execute_result",
          "data": {
            "text/plain": [
              "0.9141309174174554"
            ]
          },
          "metadata": {
            "tags": []
          },
          "execution_count": 34
        }
      ]
    },
    {
      "cell_type": "code",
      "metadata": {
        "id": "XOcxVappmGOZ",
        "colab_type": "code",
        "colab": {}
      },
      "source": [
        "kf = KFold(n_splits=4, random_state=42, shuffle=True)\n",
        "auc_list = []\n",
        "for train_index, test_index in kf.split(train):\n",
        "    X_train, X_test = train.iloc[train_index.tolist(), :].drop('Prediction', axis=1), train.iloc[test_index.tolist(), :].drop('Prediction', axis=1)\n",
        "    y_train, y_test = train['Prediction'].iloc[train_index.tolist()], train['Prediction'].iloc[test_index.tolist()]\n",
        "\n",
        "    model = (\n",
        "        lgb.LGBMClassifier(random_state=42, boosting_type='gbdt')\n",
        "        .fit(X_train.values, y_train)\n",
        "        )\n",
        "    # AUROC\n",
        "    auc_list.append(roc_auc_score(y_test, \n",
        "              model.predict_proba(X_test.values)[:, 1]))"
      ],
      "execution_count": 35,
      "outputs": []
    },
    {
      "cell_type": "code",
      "metadata": {
        "id": "aD45VeIJnMp9",
        "colab_type": "code",
        "colab": {
          "base_uri": "https://localhost:8080/",
          "height": 52
        },
        "outputId": "ce85f905-d902-475f-c6b1-cb1a7ae14b85"
      },
      "source": [
        "print(auc_list)\n",
        "np.mean(auc_list)"
      ],
      "execution_count": 37,
      "outputs": [
        {
          "output_type": "stream",
          "text": [
            "[0.9180401531355034, 0.9205392083441128, 0.9003406273556337, 0.917380326545748]\n"
          ],
          "name": "stdout"
        },
        {
          "output_type": "execute_result",
          "data": {
            "text/plain": [
              "0.9140750788452494"
            ]
          },
          "metadata": {
            "tags": []
          },
          "execution_count": 37
        }
      ]
    },
    {
      "cell_type": "markdown",
      "metadata": {
        "id": "9hvRxMCxik4q",
        "colab_type": "text"
      },
      "source": [
        "### SVM"
      ]
    },
    {
      "cell_type": "code",
      "metadata": {
        "id": "JBdws9uIim2Q",
        "colab_type": "code",
        "colab": {
          "base_uri": "https://localhost:8080/",
          "height": 34
        },
        "outputId": "1856ec8b-eace-4494-d4f6-eb3ae54deb2d"
      },
      "source": [
        "model = (\n",
        "    SVC(random_state=42, probability=True)\n",
        "    .fit(train.drop('Prediction', axis=1).values, train['Prediction'])\n",
        "         )\n",
        "\n",
        "# AUROC\n",
        "roc_auc_score(valid['Prediction'], \n",
        "              model.predict_proba(valid.drop('Prediction', axis=1).values)[:, 1])"
      ],
      "execution_count": 32,
      "outputs": [
        {
          "output_type": "execute_result",
          "data": {
            "text/plain": [
              "0.908428747852154"
            ]
          },
          "metadata": {
            "tags": []
          },
          "execution_count": 32
        }
      ]
    },
    {
      "cell_type": "markdown",
      "metadata": {
        "id": "WCQul8k2l153",
        "colab_type": "text"
      },
      "source": [
        "### Random Forest"
      ]
    },
    {
      "cell_type": "code",
      "metadata": {
        "id": "pU5JMVHVl4SR",
        "colab_type": "code",
        "colab": {
          "base_uri": "https://localhost:8080/",
          "height": 34
        },
        "outputId": "6ed60386-8a0d-41b6-db04-5749df9d2163"
      },
      "source": [
        "from sklearn.ensemble import RandomForestClassifier\n",
        "model = (\n",
        "    RandomForestClassifier(random_state=42)\n",
        "    .fit(train.drop('Prediction', axis=1).values, train['Prediction'])\n",
        "         )\n",
        "\n",
        "# AUROC\n",
        "roc_auc_score(valid['Prediction'], \n",
        "              model.predict_proba(valid.drop('Prediction', axis=1).values)[:, 1])"
      ],
      "execution_count": 33,
      "outputs": [
        {
          "output_type": "execute_result",
          "data": {
            "text/plain": [
              "0.9083082905740882"
            ]
          },
          "metadata": {
            "tags": []
          },
          "execution_count": 33
        }
      ]
    },
    {
      "cell_type": "code",
      "metadata": {
        "id": "lFvUItWpnY6C",
        "colab_type": "code",
        "colab": {}
      },
      "source": [
        "kf = KFold(n_splits=4, random_state=42, shuffle=True)\n",
        "auc_list = []\n",
        "for train_index, test_index in kf.split(train):\n",
        "    X_train, X_test = train.iloc[train_index.tolist(), :].drop('Prediction', axis=1), train.iloc[test_index.tolist(), :].drop('Prediction', axis=1)\n",
        "    y_train, y_test = train['Prediction'].iloc[train_index.tolist()], train['Prediction'].iloc[test_index.tolist()]\n",
        "\n",
        "    model = (\n",
        "        RandomForestClassifier(random_state=42)\n",
        "        .fit(X_train.values, y_train)\n",
        "        )\n",
        "    # AUROC\n",
        "    auc_list.append(roc_auc_score(y_test, \n",
        "              model.predict_proba(X_test.values)[:, 1]))"
      ],
      "execution_count": 41,
      "outputs": []
    },
    {
      "cell_type": "code",
      "metadata": {
        "id": "JSx2pVldnbvq",
        "colab_type": "code",
        "colab": {
          "base_uri": "https://localhost:8080/",
          "height": 52
        },
        "outputId": "660de722-7bf9-49c9-8835-2c6338c22522"
      },
      "source": [
        "print(auc_list)\n",
        "np.mean(auc_list)"
      ],
      "execution_count": 42,
      "outputs": [
        {
          "output_type": "stream",
          "text": [
            "[0.9173073183803453, 0.9185841696055337, 0.9000230933800429, 0.9181754229061917]\n"
          ],
          "name": "stdout"
        },
        {
          "output_type": "execute_result",
          "data": {
            "text/plain": [
              "0.9135225010680283"
            ]
          },
          "metadata": {
            "tags": []
          },
          "execution_count": 42
        }
      ]
    }
  ]
}