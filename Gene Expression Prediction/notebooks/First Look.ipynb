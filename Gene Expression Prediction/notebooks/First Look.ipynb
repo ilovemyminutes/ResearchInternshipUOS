{
 "cells": [
  {
   "cell_type": "code",
   "execution_count": 4,
   "metadata": {},
   "outputs": [
    {
     "ename": "ModuleNotFoundError",
     "evalue": "No module named 'seaborn'",
     "output_type": "error",
     "traceback": [
      "\u001b[1;31m---------------------------------------------------------------------------\u001b[0m",
      "\u001b[1;31mModuleNotFoundError\u001b[0m                       Traceback (most recent call last)",
      "\u001b[1;32m<ipython-input-4-26ac907fe307>\u001b[0m in \u001b[0;36m<module>\u001b[1;34m\u001b[0m\n\u001b[0;32m      5\u001b[0m \u001b[1;32mimport\u001b[0m \u001b[0mnumpy\u001b[0m \u001b[1;32mas\u001b[0m \u001b[0mnp\u001b[0m\u001b[1;33m\u001b[0m\u001b[1;33m\u001b[0m\u001b[0m\n\u001b[0;32m      6\u001b[0m \u001b[1;33m\u001b[0m\u001b[0m\n\u001b[1;32m----> 7\u001b[1;33m \u001b[1;32mimport\u001b[0m \u001b[0mseaborn\u001b[0m \u001b[1;32mas\u001b[0m \u001b[0msns\u001b[0m\u001b[1;33m\u001b[0m\u001b[1;33m\u001b[0m\u001b[0m\n\u001b[0m\u001b[0;32m      8\u001b[0m \u001b[1;33m\u001b[0m\u001b[0m\n\u001b[0;32m      9\u001b[0m \u001b[0mpd\u001b[0m\u001b[1;33m.\u001b[0m\u001b[0mset_option\u001b[0m\u001b[1;33m(\u001b[0m\u001b[1;34m'display.max_rows'\u001b[0m\u001b[1;33m,\u001b[0m \u001b[1;36m500\u001b[0m\u001b[1;33m)\u001b[0m\u001b[1;33m\u001b[0m\u001b[1;33m\u001b[0m\u001b[0m\n",
      "\u001b[1;31mModuleNotFoundError\u001b[0m: No module named 'seaborn'"
     ]
    }
   ],
   "source": [
    "import os\n",
    "import glob\n",
    "\n",
    "import pandas as pd\n",
    "import numpy as np\n",
    "\n",
    "import seaborn as sns\n",
    "\n",
    "pd.set_option('display.max_rows', 500)"
   ]
  },
  {
   "cell_type": "code",
   "execution_count": 8,
   "metadata": {},
   "outputs": [
    {
     "ename": "ModuleNotFoundError",
     "evalue": "No module named 'tensorflow'",
     "output_type": "error",
     "traceback": [
      "\u001b[1;31m---------------------------------------------------------------------------\u001b[0m",
      "\u001b[1;31mModuleNotFoundError\u001b[0m                       Traceback (most recent call last)",
      "\u001b[1;32m<ipython-input-8-d6579f534729>\u001b[0m in \u001b[0;36m<module>\u001b[1;34m\u001b[0m\n\u001b[1;32m----> 1\u001b[1;33m \u001b[1;32mimport\u001b[0m \u001b[0mtensorflow\u001b[0m\u001b[1;33m\u001b[0m\u001b[1;33m\u001b[0m\u001b[0m\n\u001b[0m",
      "\u001b[1;31mModuleNotFoundError\u001b[0m: No module named 'tensorflow'"
     ]
    }
   ],
   "source": [
    "import tensorflow"
   ]
  },
  {
   "cell_type": "code",
   "execution_count": 4,
   "metadata": {},
   "outputs": [],
   "source": [
    "X_train = pd.read_csv('../data/train/x_train.csv')\n",
    "y_train = pd.read_csv('../data/train/y_train.csv')"
   ]
  },
  {
   "cell_type": "code",
   "execution_count": 47,
   "metadata": {},
   "outputs": [],
   "source": [
    "train_raw = X_train.merge(y_train, how='left', on='GeneId')"
   ]
  },
  {
   "cell_type": "code",
   "execution_count": 54,
   "metadata": {},
   "outputs": [],
   "source": [
    "yesExpression = train_raw[train_raw['Prediction']==1].reset_index(drop=True)\n",
    "noExpression = train_raw[train_raw['Prediction']==0].reset_index(drop=True)"
   ]
  },
  {
   "cell_type": "code",
   "execution_count": 62,
   "metadata": {},
   "outputs": [
    {
     "data": {
      "text/html": [
       "<div>\n",
       "<style scoped>\n",
       "    .dataframe tbody tr th:only-of-type {\n",
       "        vertical-align: middle;\n",
       "    }\n",
       "\n",
       "    .dataframe tbody tr th {\n",
       "        vertical-align: top;\n",
       "    }\n",
       "\n",
       "    .dataframe thead th {\n",
       "        text-align: right;\n",
       "    }\n",
       "</style>\n",
       "<table border=\"1\" class=\"dataframe\">\n",
       "  <thead>\n",
       "    <tr style=\"text-align: right;\">\n",
       "      <th></th>\n",
       "      <th>H3K4me3</th>\n",
       "      <th>H3K4me1</th>\n",
       "      <th>H3K36me3</th>\n",
       "      <th>H3K9me3</th>\n",
       "      <th>H3K27me3</th>\n",
       "    </tr>\n",
       "  </thead>\n",
       "  <tbody>\n",
       "    <tr>\n",
       "      <th>mean</th>\n",
       "      <td>103.356452</td>\n",
       "      <td>191.506639</td>\n",
       "      <td>473.864767</td>\n",
       "      <td>792.024623</td>\n",
       "      <td>112.628980</td>\n",
       "    </tr>\n",
       "    <tr>\n",
       "      <th>std</th>\n",
       "      <td>68.781914</td>\n",
       "      <td>91.481353</td>\n",
       "      <td>237.739266</td>\n",
       "      <td>483.684822</td>\n",
       "      <td>56.726666</td>\n",
       "    </tr>\n",
       "  </tbody>\n",
       "</table>\n",
       "</div>"
      ],
      "text/plain": [
       "         H3K4me3     H3K4me1    H3K36me3     H3K9me3    H3K27me3\n",
       "mean  103.356452  191.506639  473.864767  792.024623  112.628980\n",
       "std    68.781914   91.481353  237.739266  483.684822   56.726666"
      ]
     },
     "execution_count": 62,
     "metadata": {},
     "output_type": "execute_result"
    }
   ],
   "source": [
    "yesExpression.drop('Prediction', axis=1).groupby('GeneId').sum().agg(['mean', 'std'])"
   ]
  },
  {
   "cell_type": "code",
   "execution_count": 63,
   "metadata": {},
   "outputs": [
    {
     "data": {
      "text/html": [
       "<div>\n",
       "<style scoped>\n",
       "    .dataframe tbody tr th:only-of-type {\n",
       "        vertical-align: middle;\n",
       "    }\n",
       "\n",
       "    .dataframe tbody tr th {\n",
       "        vertical-align: top;\n",
       "    }\n",
       "\n",
       "    .dataframe thead th {\n",
       "        text-align: right;\n",
       "    }\n",
       "</style>\n",
       "<table border=\"1\" class=\"dataframe\">\n",
       "  <thead>\n",
       "    <tr style=\"text-align: right;\">\n",
       "      <th></th>\n",
       "      <th>H3K4me3</th>\n",
       "      <th>H3K4me1</th>\n",
       "      <th>H3K36me3</th>\n",
       "      <th>H3K9me3</th>\n",
       "      <th>H3K27me3</th>\n",
       "    </tr>\n",
       "  </thead>\n",
       "  <tbody>\n",
       "    <tr>\n",
       "      <th>mean</th>\n",
       "      <td>222.516046</td>\n",
       "      <td>115.054607</td>\n",
       "      <td>199.283644</td>\n",
       "      <td>226.848861</td>\n",
       "      <td>111.166149</td>\n",
       "    </tr>\n",
       "    <tr>\n",
       "      <th>std</th>\n",
       "      <td>158.148072</td>\n",
       "      <td>58.106251</td>\n",
       "      <td>173.857829</td>\n",
       "      <td>261.303198</td>\n",
       "      <td>66.740409</td>\n",
       "    </tr>\n",
       "  </tbody>\n",
       "</table>\n",
       "</div>"
      ],
      "text/plain": [
       "         H3K4me3     H3K4me1    H3K36me3     H3K9me3    H3K27me3\n",
       "mean  222.516046  115.054607  199.283644  226.848861  111.166149\n",
       "std   158.148072   58.106251  173.857829  261.303198   66.740409"
      ]
     },
     "execution_count": 63,
     "metadata": {},
     "output_type": "execute_result"
    }
   ],
   "source": [
    "noExpression.drop('Prediction', axis=1).groupby('GeneId').sum().agg(['mean', 'std'])"
   ]
  },
  {
   "cell_type": "code",
   "execution_count": 41,
   "metadata": {},
   "outputs": [
    {
     "data": {
      "text/html": [
       "<div>\n",
       "<style scoped>\n",
       "    .dataframe tbody tr th:only-of-type {\n",
       "        vertical-align: middle;\n",
       "    }\n",
       "\n",
       "    .dataframe tbody tr th {\n",
       "        vertical-align: top;\n",
       "    }\n",
       "\n",
       "    .dataframe thead th {\n",
       "        text-align: right;\n",
       "    }\n",
       "</style>\n",
       "<table border=\"1\" class=\"dataframe\">\n",
       "  <thead>\n",
       "    <tr style=\"text-align: right;\">\n",
       "      <th></th>\n",
       "      <th>GeneId</th>\n",
       "      <th>H3K4me3</th>\n",
       "      <th>H3K4me1</th>\n",
       "      <th>H3K36me3</th>\n",
       "      <th>H3K9me3</th>\n",
       "      <th>H3K27me3</th>\n",
       "    </tr>\n",
       "  </thead>\n",
       "  <tbody>\n",
       "    <tr>\n",
       "      <th>1533917</th>\n",
       "      <td>15340</td>\n",
       "      <td>163</td>\n",
       "      <td>93</td>\n",
       "      <td>81</td>\n",
       "      <td>109</td>\n",
       "      <td>108</td>\n",
       "    </tr>\n",
       "  </tbody>\n",
       "</table>\n",
       "</div>"
      ],
      "text/plain": [
       "         GeneId  H3K4me3  H3K4me1  H3K36me3  H3K9me3  H3K27me3\n",
       "1533917   15340      163       93        81      109       108"
      ]
     },
     "execution_count": 41,
     "metadata": {},
     "output_type": "execute_result"
    }
   ],
   "source": [
    "X_train[X_train['H3K4me3']==163]"
   ]
  },
  {
   "cell_type": "code",
   "execution_count": 38,
   "metadata": {},
   "outputs": [
    {
     "data": {
      "text/plain": [
       "(100, 6)"
      ]
     },
     "execution_count": 38,
     "metadata": {},
     "output_type": "execute_result"
    }
   ],
   "source": [
    "temp.shape"
   ]
  },
  {
   "cell_type": "code",
   "execution_count": 22,
   "metadata": {},
   "outputs": [],
   "source": [
    "temp = X_train[X_train['GeneId'] == 1]\n",
    "temp_melt = pd.melt(temp, id_vars='GeneId')"
   ]
  },
  {
   "cell_type": "code",
   "execution_count": 29,
   "metadata": {},
   "outputs": [
    {
     "data": {
      "text/html": [
       "<div>\n",
       "<style scoped>\n",
       "    .dataframe tbody tr th:only-of-type {\n",
       "        vertical-align: middle;\n",
       "    }\n",
       "\n",
       "    .dataframe tbody tr th {\n",
       "        vertical-align: top;\n",
       "    }\n",
       "\n",
       "    .dataframe thead tr th {\n",
       "        text-align: left;\n",
       "    }\n",
       "\n",
       "    .dataframe thead tr:last-of-type th {\n",
       "        text-align: right;\n",
       "    }\n",
       "</style>\n",
       "<table border=\"1\" class=\"dataframe\">\n",
       "  <thead>\n",
       "    <tr>\n",
       "      <th></th>\n",
       "      <th></th>\n",
       "      <th colspan=\"2\" halign=\"left\">value</th>\n",
       "    </tr>\n",
       "    <tr>\n",
       "      <th></th>\n",
       "      <th></th>\n",
       "      <th>mean</th>\n",
       "      <th>std</th>\n",
       "    </tr>\n",
       "    <tr>\n",
       "      <th>GeneId</th>\n",
       "      <th>variable</th>\n",
       "      <th></th>\n",
       "      <th></th>\n",
       "    </tr>\n",
       "  </thead>\n",
       "  <tbody>\n",
       "    <tr>\n",
       "      <th rowspan=\"5\" valign=\"top\">1</th>\n",
       "      <th>H3K27me3</th>\n",
       "      <td>0.85</td>\n",
       "      <td>0.880484</td>\n",
       "    </tr>\n",
       "    <tr>\n",
       "      <th>H3K36me3</th>\n",
       "      <td>1.18</td>\n",
       "      <td>1.552970</td>\n",
       "    </tr>\n",
       "    <tr>\n",
       "      <th>H3K4me1</th>\n",
       "      <td>0.70</td>\n",
       "      <td>0.915633</td>\n",
       "    </tr>\n",
       "    <tr>\n",
       "      <th>H3K4me3</th>\n",
       "      <td>1.59</td>\n",
       "      <td>1.378735</td>\n",
       "    </tr>\n",
       "    <tr>\n",
       "      <th>H3K9me3</th>\n",
       "      <td>1.78</td>\n",
       "      <td>2.918350</td>\n",
       "    </tr>\n",
       "  </tbody>\n",
       "</table>\n",
       "</div>"
      ],
      "text/plain": [
       "                value          \n",
       "                 mean       std\n",
       "GeneId variable                \n",
       "1      H3K27me3  0.85  0.880484\n",
       "       H3K36me3  1.18  1.552970\n",
       "       H3K4me1   0.70  0.915633\n",
       "       H3K4me3   1.59  1.378735\n",
       "       H3K9me3   1.78  2.918350"
      ]
     },
     "execution_count": 29,
     "metadata": {},
     "output_type": "execute_result"
    }
   ],
   "source": [
    "temp_melt.groupby(['GeneId', 'variable']).agg(['mean', 'std'])"
   ]
  },
  {
   "cell_type": "code",
   "execution_count": null,
   "metadata": {},
   "outputs": [],
   "source": [
    "X"
   ]
  },
  {
   "cell_type": "markdown",
   "metadata": {},
   "source": [
    "H3K4me3\n",
    "- DNA 패키징 단백질 히스톤 H3에 대한 후성유전적 변형\n",
    "- 히스톤 H3 단백질(H3)의 4번째 라이신 잔기(K4)에서 트릴메틸화 변형(me3)을 나타냄\n",
    "\t- 라이신: K로 표기, HO2CCH (NH2) (CH2) 4NH2를 갖는 α- 아미노산, 필수 아미노산\n",
    "\t- 트릴메틸화 변형: 3개의 메틸 그룹이 히스톤이 붙는 것, me3\n",
    "\t- 3개의 메틸그룹이 H3K4에 붙어 H3K4me3가 히스톤 테일 프로모터 부분에 많이 있게 됨\n",
    "- 유전자 발현 조절에 관여하는 마커(전사활성화(transcription activation) 마커)\n",
    "\n",
    "\n",
    "H3K4me1\n",
    "- DNA 패키징 단백질 Histone H3에 대한 후성유전적 변형\n",
    "- 히스톤 H3 단백질(H3)의 4번째 라이신 잔기(K4)에서 모노메틸화(me1) 변형을 나타냄\n",
    "- 유전자 인핸서와 관련 있는 표시\n",
    "\t- 인핸서(Enhancer): 프로모터에서 멀리 떨어진 위치에서 유전자의 전사(transcription)를 조절하는 DNA 염기서열\n",
    "\t- [Reference](http://www.ksmcb.or.kr/file/webzine/2015_08_03.pdf)\n",
    "\n",
    "H3K36me3\n",
    "- DNA 패키징 단백질 Histone H3에 대한 후성유전적 변형\n",
    "- 히스톤 H3 단백질의 36번째 라이신 잔기(K36)에서 트릴메틸화 변형(me3)을 나타냄\n",
    "- 유전자 본체와 관련 있는 표시\n",
    "\n",
    "\n",
    "H3K9me3\n",
    "- DNA 패키징 단백질 Histone H3에 대한 후성유전적 변형\n",
    "- 히스톤 H3 단백질의 9번째 라이신 잔기(K9)에서 트릴메틸화(me3)를 나타냄\n",
    "- 헤테로크로마틴과 관련 있는 표시\n",
    "\t- 헤테로크로마틴(Heterocromatin): DNA가 히스톤을 빠듯하게 감고 있는 뉴클레오좀 상태\n",
    "\t- 유크로마틴(Euchromatin): DNA가 히스톤을 느슨하게 감고 있는 뉴클레오좀 상태\n",
    "\t- 히스톤 꼬리(tail)에 달라 붙는 효소와 단백질에 따라 뉴클레오좀 상태가 결정됨. 즉, 달라붙은 단백질를 표식(Marker)으로 삼아 뉴클레오좀 상태를 가늠할 수 있음\n",
    "\n",
    "H3K27me3\n",
    "- DNA 패키징 단백질 Histone H3에 대한 후성유전적 변형\n",
    "- 히스톤 H3 단백질의 27 번째 라이신 잔기에서 트리메틸 화를 나타내는 마크\n",
    "- 트리메틸화는 헤테로크로마틱 영역 구성을 통해 근처 유전자의 하향조절(downregulation)과 관련"
   ]
  }
 ],
 "metadata": {
  "kernelspec": {
   "display_name": "Python 3",
   "language": "python",
   "name": "python3"
  },
  "language_info": {
   "codemirror_mode": {
    "name": "ipython",
    "version": 3
   },
   "file_extension": ".py",
   "mimetype": "text/x-python",
   "name": "python",
   "nbconvert_exporter": "python",
   "pygments_lexer": "ipython3",
   "version": "3.8.3"
  }
 },
 "nbformat": 4,
 "nbformat_minor": 4
}
